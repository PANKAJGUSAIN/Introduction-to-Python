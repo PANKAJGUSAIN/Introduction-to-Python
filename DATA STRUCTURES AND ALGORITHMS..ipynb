{
 "cells": [
  {
   "cell_type": "markdown",
   "metadata": {},
   "source": [
    "# RECURSION"
   ]
  },
  {
   "cell_type": "code",
   "execution_count": 2,
   "metadata": {},
   "outputs": [
    {
     "data": {
      "text/plain": [
       "120"
      ]
     },
     "execution_count": 2,
     "metadata": {},
     "output_type": "execute_result"
    }
   ],
   "source": [
    "def fact(n):\n",
    "    if n==0:        #trivial case\n",
    "        return 1\n",
    "    small_output = fact(n-1)    \n",
    "    return n*small_output\n",
    "n=5\n",
    "fact(n)"
   ]
  },
  {
   "cell_type": "code",
   "execution_count": 6,
   "metadata": {},
   "outputs": [
    {
     "name": "stdout",
     "output_type": "stream",
     "text": [
      "1\n",
      "2\n",
      "3\n",
      "4\n",
      "5\n"
     ]
    }
   ],
   "source": [
    "a=[[1,2],[3,4,5]]\n",
    "for ele in a:\n",
    "    for a in ele :\n",
    "        print(a)"
   ]
  },
  {
   "cell_type": "code",
   "execution_count": 8,
   "metadata": {},
   "outputs": [
    {
     "name": "stdout",
     "output_type": "stream",
     "text": [
      "1\n",
      "3\n",
      "1 4 5\n",
      "2 3 5\n",
      "6 4 3\n",
      "0 0\n",
      "0 1\n",
      "0 2\n",
      "1 0\n",
      "1 1\n",
      "1 2\n",
      "2 0\n",
      "2 1\n",
      "2 2\n",
      "0 0\n",
      "0 1\n",
      "0 2\n",
      "1 0\n",
      "1 1\n",
      "1 2\n",
      "2 0\n",
      "2 1\n",
      "2 2\n",
      "0 0\n",
      "0 1\n",
      "0 2\n",
      "1 0\n",
      "1 1\n",
      "1 2\n",
      "2 0\n",
      "2 1\n",
      "2 2\n",
      "0 0\n",
      "0 1\n",
      "0 2\n",
      "1 0\n",
      "1 1\n",
      "1 2\n",
      "2 0\n",
      "2 1\n",
      "2 2\n",
      "0 0\n",
      "0 1\n",
      "0 2\n",
      "1 0\n",
      "1 1\n",
      "1 2\n",
      "2 0\n",
      "2 1\n",
      "2 2\n",
      "0 0\n",
      "0 1\n",
      "0 2\n",
      "1 0\n",
      "1 1\n",
      "1 2\n",
      "2 0\n",
      "2 1\n",
      "2 2\n",
      "0 0\n",
      "0 1\n",
      "0 2\n",
      "1 0\n",
      "1 1\n",
      "1 2\n",
      "2 0\n",
      "2 1\n",
      "2 2\n",
      "0 0\n",
      "0 1\n",
      "0 2\n",
      "1 0\n",
      "1 1\n",
      "1 2\n",
      "2 0\n",
      "2 1\n",
      "2 2\n",
      "0 0\n",
      "0 1\n",
      "0 2\n",
      "1 0\n",
      "1 1\n",
      "1 2\n",
      "2 0\n",
      "2 1\n",
      "2 2\n",
      "33\n"
     ]
    }
   ],
   "source": [
    "n=int(input())\n",
    "while n>0:\n",
    "    m=int(input())\n",
    "    p=[]\n",
    "    for ele in range(m):\n",
    "        li=[int(ele)for ele in input().split()]\n",
    "        p.append(li)\n",
    "    \n",
    "    count = 0\n",
    "\n",
    "    j=m*m\n",
    "    q=0\n",
    "    r=0\n",
    "    while j>0:\n",
    "        if(r>2):\n",
    "            q=q+1\n",
    "            r=0\n",
    "        for i in range(m):\n",
    "            for ele in range(m):\n",
    "                print(i,ele)\n",
    "                if p[q][r] > p[i][ele]:\n",
    "                    count=count+1\n",
    "        r=r+1\n",
    "        j=j-1\n",
    "\n",
    "\n",
    "\n",
    "    \n",
    "\n",
    "    print(count)\n",
    "\n",
    "\n",
    "    \n",
    "    n = n - 1"
   ]
  },
  {
   "cell_type": "markdown",
   "metadata": {},
   "source": [
    "# oops"
   ]
  },
  {
   "cell_type": "code",
   "execution_count": 7,
   "metadata": {},
   "outputs": [
    {
     "name": "stdout",
     "output_type": "stream",
     "text": [
      "hello\n",
      "pankaj\n",
      "13\n"
     ]
    }
   ],
   "source": [
    "class check:\n",
    "    def __init__(self,age): #constructor\n",
    "        self.age= age\n",
    "        print('hello')\n",
    "    def check(self):              #self converts the data from c.check() to check.check(c)\n",
    "        print(self.name)\n",
    "        print(self.age)\n",
    "\n",
    "c=check(13)\n",
    "c.name ='pankaj'\n",
    "c.check()"
   ]
  },
  {
   "cell_type": "code",
   "execution_count": 8,
   "metadata": {},
   "outputs": [
    {
     "data": {
      "text/plain": [
       "{'age': 13, 'name': 'pankaj'}"
      ]
     },
     "execution_count": 8,
     "metadata": {},
     "output_type": "execute_result"
    }
   ],
   "source": [
    "#how to check values contained in an object \n",
    "c.__dict__"
   ]
  },
  {
   "cell_type": "code",
   "execution_count": 10,
   "metadata": {},
   "outputs": [
    {
     "data": {
      "text/plain": [
       "True"
      ]
     },
     "execution_count": 10,
     "metadata": {},
     "output_type": "execute_result"
    }
   ],
   "source": [
    "#to check if the object contains that attribute or not\n",
    "#hasattr(objectname,attribue key)\n",
    "hasattr(c,'name')"
   ]
  },
  {
   "cell_type": "code",
   "execution_count": 14,
   "metadata": {},
   "outputs": [
    {
     "name": "stdout",
     "output_type": "stream",
     "text": [
      "pankaj\n",
      "0\n"
     ]
    }
   ],
   "source": [
    "#to give the attribute data if the object contains it\n",
    "#it its not then set the default value(optional)\n",
    "#getattr(objectname,attribue key,defaultvalue)\n",
    "print(getattr(c,'name'))\n",
    "print(getattr(c,'sos',0))"
   ]
  },
  {
   "cell_type": "code",
   "execution_count": 15,
   "metadata": {},
   "outputs": [],
   "source": [
    "#to delete an object\n",
    "delattr(c,'age')"
   ]
  },
  {
   "cell_type": "code",
   "execution_count": 21,
   "metadata": {},
   "outputs": [
    {
     "name": "stdout",
     "output_type": "stream",
     "text": [
      "Product: 125\n",
      "here\n",
      "inside static\n"
     ]
    }
   ],
   "source": [
    "#different types of methods\n",
    "#1. instance method (how to print)\n",
    "#2. static method (when we just want to print something )\n",
    "#    a static method is bound to a class rather than the objects for that class.\n",
    "#    This means that a static method can be called without an object for that class.\n",
    "#3. init method(constructor)\n",
    "\n",
    "\n",
    "class pq:\n",
    "    def __init__(self):\n",
    "        print(\"here\")\n",
    "    \n",
    "    @staticmethod\n",
    "    def checks():\n",
    "        print(\"inside static\")\n",
    "        \n",
    "class Calculator:\n",
    "\n",
    "    @staticmethod\n",
    "    def addNumbers(x, y):\n",
    "        return x + y\n",
    "\n",
    "print('Product:', Calculator.addNumbers(15, 110))\n",
    "        \n",
    "p=pq()\n",
    "p.checks()"
   ]
  },
  {
   "cell_type": "code",
   "execution_count": 20,
   "metadata": {},
   "outputs": [
    {
     "name": "stdout",
     "output_type": "stream",
     "text": [
      "<Euro €3.84>\n"
     ]
    }
   ],
   "source": [
    "#4. class method(factory method)(to return obj of a class)\n",
    "#A class method is a method that is bound to a class rather than its object. \n",
    "#It doesn't require creation of a class instance, much like staticmethod.\n",
    "#The difference between a static method and a class method is: Static method knows nothing \n",
    "#about the class and just deals with the parameters.\n",
    "\n",
    "class Float:\n",
    "    def __init__(self, amount):\n",
    "        self.amount = amount\n",
    "\n",
    "    @classmethod\n",
    "    def from_sum(cls, value_1, value_2):\n",
    "        return cls(value_1 + value_2)\n",
    "\n",
    "class Dollar(Float):\n",
    "    def __init__(self, amount):\n",
    "        super().__init__(amount)\n",
    "        self.symbol = '€'\n",
    "\n",
    "    def __repr__(self):\n",
    "        return f'<Euro {self.symbol}{self.amount:.2f}>'\n",
    "\n",
    "\n",
    "print(Dollar.from_sum(1.34653, 2.49573)) "
   ]
  },
  {
   "cell_type": "code",
   "execution_count": 25,
   "metadata": {},
   "outputs": [
    {
     "name": "stdout",
     "output_type": "stream",
     "text": [
      "hello bike\n"
     ]
    }
   ],
   "source": [
    "#oops concepts:\n",
    "#1.Abstraction : hiding all the irrelevant details and showing on the essential details of the object\n",
    "#abstract class cannot have objects\n",
    "\n",
    "#abstract method needs to be in the derived class(bike class)\n",
    "\n",
    "from abc import ABC , abstractmethod\n",
    "class automobile(ABC):\n",
    "        def __init__(self):\n",
    "            print('hello')\n",
    "            \n",
    "        @abstractmethod\n",
    "        def start(self):\n",
    "            pass\n",
    "        \n",
    "class bike(automobile):\n",
    "    def __init__(self):\n",
    "        print('hello bike')\n",
    "        \n",
    "    def start(self):\n",
    "        print('bike started')\n",
    "        \n",
    "b=bike()"
   ]
  },
  {
   "cell_type": "code",
   "execution_count": 11,
   "metadata": {},
   "outputs": [
    {
     "name": "stdout",
     "output_type": "stream",
     "text": [
      "welcome to new1\n",
      "12\n",
      "13\n"
     ]
    }
   ],
   "source": [
    "class new1:\n",
    "    def __init__(self,a):\n",
    "        self.a = a\n",
    "    @staticmethod\n",
    "    def hello():\n",
    "        print('welcome to new1')\n",
    "        \n",
    "        \n",
    "class new2(new1):\n",
    "    def __init__(self,a,b):\n",
    "        super().__init__(a)\n",
    "        self.b = b\n",
    "    def print2(self):\n",
    "        print(self.a)\n",
    "        print(self.b)\n",
    "        \n",
    "a1=new2(12,13)\n",
    "a2=new1(24)\n",
    "a1.hello()\n",
    "a1.print2()"
   ]
  },
  {
   "cell_type": "code",
   "execution_count": 17,
   "metadata": {},
   "outputs": [
    {
     "name": "stdout",
     "output_type": "stream",
     "text": [
      "12  14\n",
      "12  14\n"
     ]
    }
   ],
   "source": [
    "class new1:\n",
    "    def __init__(self,a):\n",
    "        self.a = a\n",
    "        \n",
    "    def hello(self,another):\n",
    "        print(self.a,\"\",another.a)\n",
    "        \n",
    "a1=new1(12)\n",
    "a2=new1(14)\n",
    "#two ways of calling a class\n",
    "a1.hello(a2)\n",
    "new1.hello(a1,a2)"
   ]
  },
  {
   "cell_type": "markdown",
   "metadata": {},
   "source": [
    "# LINKED LIST"
   ]
  },
  {
   "cell_type": "code",
   "execution_count": null,
   "metadata": {},
   "outputs": [],
   "source": [
    "Linked list stores the element in a continious manner\n",
    "A linked list has a head and a tail ponter . \n",
    "head stores the reference of the starting node and ,\n",
    "tail stores the reference of the end node "
   ]
  },
  {
   "cell_type": "code",
   "execution_count": 4,
   "metadata": {},
   "outputs": [
    {
     "name": "stdout",
     "output_type": "stream",
     "text": [
      "a:  <__main__.Node object at 0x00000191AE267AF0>\n",
      "a.data:  12\n",
      "a.next:  <__main__.Node object at 0x00000191AE267A60>\n",
      "a.next.data:  13\n",
      "b:  <__main__.Node object at 0x00000191AE267A60>\n",
      "b.data:  13\n",
      "b.next:  None\n"
     ]
    }
   ],
   "source": [
    "#how to create a node\n",
    "class Node:\n",
    "    def __init__(self,data):\n",
    "        self.data = data\n",
    "        self.next = None\n",
    "\n",
    "a=Node(12)\n",
    "b=Node(13)\n",
    "#now we have create two node and both of their next is null currently so we need to connect them\n",
    "# as  a->b 'a' node points to 'b' node\n",
    "a.next = b\n",
    "\n",
    "print('a:',\"\",a)\n",
    "print('a.data:',\"\",a.data)\n",
    "print('a.next:',\"\",a.next)\n",
    "print('a.next.data:',\"\",a.next.data)\n",
    "\n",
    "print('b:',\"\",b)\n",
    "print('b.data:',\"\",b.data)\n",
    "print('b.next:',\"\",b.next)\n",
    "#print('b.next.data:',\"\",b.next.data) #error occurs as next is None so next wont have 'data' attribute\n"
   ]
  },
  {
   "cell_type": "code",
   "execution_count": 19,
   "metadata": {},
   "outputs": [
    {
     "name": "stdout",
     "output_type": "stream",
     "text": [
      "1 2 3 4 5 6 7 8 -1\n"
     ]
    },
    {
     "data": {
      "text/plain": [
       "<__main__.Node at 0x191af5708e0>"
      ]
     },
     "execution_count": 19,
     "metadata": {},
     "output_type": "execute_result"
    }
   ],
   "source": [
    "# how to take input from user for the entries of a linked list\n",
    "# using only head pointer\n",
    "\n",
    "#first we difine what every node needs to contains i.e; data and next\n",
    "class Node:\n",
    "    def __init__(self,data):\n",
    "        self.data = data\n",
    "        self.next = None\n",
    "        \n",
    "#we are taking input in this manner 1 2 3 4 6 7 -1  . '-1' means that the loop ends\n",
    "def takeinput():\n",
    "    inputlist=[int(ele) for ele in input().split()]\n",
    "    head = None\n",
    "    for currData in inputlist:\n",
    "        #we check if the data is -1 or not\n",
    "        if currData == -1:\n",
    "            break\n",
    "        #if data is not -1 then we create a new Node\n",
    "        newNode = Node(currData)\n",
    "        \n",
    "        #we now check if the linked list is empty or not\n",
    "        if head is None:\n",
    "            head = newNode\n",
    "        else:\n",
    "            #we create a new pointer that will move from the starting to the end of the current node\n",
    "            curr = head \n",
    "            while curr.next is not None:\n",
    "                curr =curr.next\n",
    "            #once it reaches to the end of the list it adds the newNode we got\n",
    "            curr.Next = newNode\n",
    "    #now we return the head only beacause if we have the head we can traverse in all the linked list     \n",
    "    return head\n",
    "\n",
    "takeinput()\n",
    "\n",
    "\n",
    "#the timecomplexity of this code is O(n^2)"
   ]
  },
  {
   "cell_type": "code",
   "execution_count": 20,
   "metadata": {},
   "outputs": [
    {
     "name": "stdout",
     "output_type": "stream",
     "text": [
      "1 2 3 4 5 -1\n",
      "1 2 3 4 5 "
     ]
    }
   ],
   "source": [
    "#how to print \n",
    "\n",
    "\n",
    "class Node:\n",
    "    def __init__(self,data):\n",
    "        self.data = data\n",
    "        self.next = None\n",
    "        \n",
    "def takeinput():\n",
    "    inputlist = [int(ele) for ele in input().split()]\n",
    "    head = None\n",
    "        \n",
    "    for currData in inputlist:\n",
    "        if currData == -1:\n",
    "            break\n",
    "        newNode = Node(currData)\n",
    "            \n",
    "        if head is None:\n",
    "            head = newNode\n",
    "        else:\n",
    "            curr=head\n",
    "            while curr.next is not None:\n",
    "                curr=curr.next\n",
    "            curr.next = newNode\n",
    "            \n",
    "    return head\n",
    "\n",
    "#####here\n",
    "\n",
    "def printlist(head):\n",
    " \n",
    "    while head is not None:\n",
    "        print(head.data,end=\" \")\n",
    "        head=head.next\n",
    "        \n",
    "head = takeinput()\n",
    "printlist(head)"
   ]
  },
  {
   "cell_type": "code",
   "execution_count": 22,
   "metadata": {},
   "outputs": [
    {
     "name": "stdout",
     "output_type": "stream",
     "text": [
      "1 2 3 4 5 -1\n",
      "12345"
     ]
    }
   ],
   "source": [
    "#using two pointer head and tail to reduce the complexity to O(n)\n",
    "class Node:\n",
    "    def __init__(self,data):\n",
    "        self.data = data\n",
    "        self.next = None\n",
    "\n",
    "def takeinput():\n",
    "    inputlist=[int(ele) for ele in input().split()]\n",
    "    head =None\n",
    "    tail =head\n",
    "    for currData in inputlist:\n",
    "        if currData == -1:\n",
    "            break\n",
    "        newNode = Node(currData)\n",
    "        \n",
    "        if head is None:\n",
    "            head = newNode\n",
    "            tail = head\n",
    "        else:\n",
    "            tail.next = newNode\n",
    "            tail = newNode\n",
    "    return head\n",
    "\n",
    "def printlist(head):\n",
    "    while head is not None:\n",
    "        print(head.data,end=\"\")\n",
    "        head=head.next\n",
    "\n",
    "head=takeinput()\n",
    "printlist(head)"
   ]
  },
  {
   "cell_type": "code",
   "execution_count": 3,
   "metadata": {},
   "outputs": [
    {
     "name": "stdout",
     "output_type": "stream",
     "text": [
      "24 53 22 21 51 13 34 -1\n",
      "enter the position4\n",
      "24->53->22->21->51->13->34->None\n",
      "21\n"
     ]
    }
   ],
   "source": [
    "#finding element at ith node\n",
    "class Node:\n",
    "    def __init__(self,data):\n",
    "        self.data = data\n",
    "        self.next = None\n",
    "\n",
    "def takeinput():\n",
    "    inputlist =[int(ele) for ele in input().split()]\n",
    "    head =None \n",
    "    tail =head\n",
    "    for currData in inputlist:\n",
    "        if currData == -1:\n",
    "            break\n",
    "        newNode = Node(currData)\n",
    "        if head == None:\n",
    "            head = newNode\n",
    "            tail =head\n",
    "        else:\n",
    "            tail.next=newNode\n",
    "            tail=newNode\n",
    "    return head , tail\n",
    "\n",
    "def printl(head):\n",
    "    while head is not None:\n",
    "        print(head.data,end=\"->\")\n",
    "        head = head.next\n",
    "    print(None)\n",
    "    \n",
    "def searching(head ,tail,i_element):\n",
    "    #checking the underflow contition\n",
    "    if head == tail :\n",
    "        print('underflow: linked list is empty')\n",
    "        return -1\n",
    "    count = 0\n",
    "    ele = 0\n",
    "    while (count < i_element ) and (head !=tail):\n",
    "        if count == i_element-1:\n",
    "            ele = head.data\n",
    "        head = head.next\n",
    "        count =count+1\n",
    "    return ele\n",
    "\n",
    "head , tail= takeinput()\n",
    "i_element = int(input('enter the position'))\n",
    "searchforelement = searching(head , tail , i_element)\n",
    "printl(head)\n",
    "print(searchforelement)\n"
   ]
  },
  {
   "cell_type": "code",
   "execution_count": 6,
   "metadata": {},
   "outputs": [
    {
     "name": "stdout",
     "output_type": "stream",
     "text": [
      "12 13 14 15 16 11 -1\n",
      "enter the element you forgot0\n",
      "insert the position of the newnode3\n",
      "12->13->0->14->15->16->11->None\n"
     ]
    }
   ],
   "source": [
    "#intersing node at ith positon\n",
    "#o(n)\n",
    "class Node:\n",
    "    def __init__(self,data):\n",
    "        self.data = data\n",
    "        self.next = None\n",
    "\n",
    "def takeinput():\n",
    "    inputlist =[int(ele) for ele in input().split()]\n",
    "    head =None \n",
    "    tail =head\n",
    "    for currData in inputlist:\n",
    "        if currData == -1:\n",
    "            break\n",
    "        newNode = Node(currData)\n",
    "        if head == None:\n",
    "            head = newNode\n",
    "            tail =head\n",
    "        else:\n",
    "            tail.next=newNode\n",
    "            tail=newNode\n",
    "    return head , tail\n",
    "\n",
    "def printl(head):\n",
    "    while head is not None:\n",
    "        print(head.data,end=\"->\")\n",
    "        head = head.next\n",
    "    print(None)\n",
    "    \n",
    "def length(head):\n",
    "    count =0\n",
    "    while head is not None:\n",
    "        count = count + 1\n",
    "        head = head.next\n",
    "    return count\n",
    "    \n",
    "#here\n",
    "def inserting(head,insert_element,insert_position):\n",
    "    if insert_position < 0 or insert_position > length(head):\n",
    "        print(\"wrong input\")\n",
    "        return\n",
    "    newNode = Node(insert_element)\n",
    "    count = 0  #to get to that particular position\n",
    "    curr = head\n",
    "    prev = None\n",
    "    while count < insert_position-1 :\n",
    "        prev = curr\n",
    "        curr = curr.next\n",
    "        count =count+1\n",
    "    prev.next = newNode\n",
    "    newNode.next = curr\n",
    "    \n",
    "    return head\n",
    "    \n",
    "head , tail= takeinput()\n",
    "insert_element = int(input(\"enter the element you forgot\"))\n",
    "insert_position = int(input(\"insert the position of the newnode\"))\n",
    "\n",
    "head=inserting(head,insert_element,insert_position)\n",
    "printl(head)"
   ]
  },
  {
   "cell_type": "code",
   "execution_count": 9,
   "metadata": {},
   "outputs": [
    {
     "name": "stdout",
     "output_type": "stream",
     "text": [
      "12 13 14 15 16 11 -1\n",
      "12->13->14->15->16->11->None\n",
      "11->16->15->14->13->12->None\n"
     ]
    }
   ],
   "source": [
    "#how to reverse a linked list \n",
    "#iteratively\n",
    "#O(N)\n",
    "\n",
    "def reverses(head):\n",
    "    prev = None\n",
    "    curr = head\n",
    "    next1 = head.next\n",
    "    while curr.next is not None:\n",
    "        curr.next = prev\n",
    "        prev = curr\n",
    "        curr = next1\n",
    "        next1 = next1.next\n",
    "        \n",
    "    curr.next = prev\n",
    "    prev = curr\n",
    "        \n",
    "    return prev\n",
    "\n",
    "head , tail =takeinput()\n",
    "\n",
    "printl(head)\n",
    "\n",
    "prev=reverses(head)\n",
    "\n",
    "printl(prev)"
   ]
  },
  {
   "cell_type": "code",
   "execution_count": 15,
   "metadata": {},
   "outputs": [
    {
     "name": "stdout",
     "output_type": "stream",
     "text": [
      "12 13 14 15 16 11 -1\n",
      "12->13->14->15->16->11->None\n",
      "11->16->15->14->13->12->None\n"
     ]
    }
   ],
   "source": [
    "#how to reverse a linked list \n",
    "#recursively using only head pointer\n",
    "#complexity O(n^2)\n",
    "\n",
    "def recursively(head):\n",
    "    if head is None or head.next is None:\n",
    "        return head\n",
    "    smallhead=recursively(head.next)                     #smallhead stores the location of the last node that is why\n",
    "                                                        #it is returned and curr will do the work of joining the nodes\n",
    "    \n",
    "    curr = smallhead\n",
    "    while curr.next is not None:\n",
    "        curr = curr.next\n",
    "        \n",
    "    curr.next = head\n",
    "    head.next = None\n",
    "    return smallhead\n",
    "\n",
    "\n",
    "head , tail = takeinput()\n",
    "printl(head)\n",
    "\n",
    "newhead=recursively(head)\n",
    "\n",
    "printl(newhead)\n"
   ]
  },
  {
   "cell_type": "code",
   "execution_count": 18,
   "metadata": {},
   "outputs": [
    {
     "name": "stdout",
     "output_type": "stream",
     "text": [
      "12 13 14 15 16 11 -1\n",
      "12->13->14->15->16->11->None\n",
      "11->16->15->14->13->12->None\n"
     ]
    }
   ],
   "source": [
    "#how to reverse a linked list \n",
    "#recursively using  both head and tail pointer\n",
    "#complexity O(n)\n",
    "\n",
    "def reverses(head):\n",
    "    if head is None or head.next is None:\n",
    "        return head,head\n",
    "    smallhead,smalltail = reverses(head.next)      #at starting smallhead and smalltail will get head only\n",
    "    smalltail.next= head                        \n",
    "    head.next =None\n",
    "    return smallhead , head\n",
    "\n",
    "head , tail = takeinput()\n",
    "printl(head)\n",
    "\n",
    "newhead,tail=reverses(head)\n",
    "\n",
    "\n",
    "printl(newhead)"
   ]
  },
  {
   "cell_type": "code",
   "execution_count": 5,
   "metadata": {},
   "outputs": [
    {
     "name": "stdout",
     "output_type": "stream",
     "text": [
      "12 13 14 15 16 11 -1\n",
      "12->13->14->15->16->11->None\n",
      "count: (2, 14)\n"
     ]
    }
   ],
   "source": [
    "#how to find middle of a linked list\n",
    "class Node:\n",
    "    def __init__(self,data):\n",
    "        self.data = data\n",
    "        self.next = None\n",
    "\n",
    "def takesinput():\n",
    "    inputlist =[int(ele) for ele in input().split()]\n",
    "    head =None \n",
    "    tail =head\n",
    "    for currData in inputlist:\n",
    "        if currData == -1:\n",
    "            break\n",
    "        newNode = Node(currData)\n",
    "        if head == None:\n",
    "            head = newNode\n",
    "            tail =head\n",
    "        else:\n",
    "            tail.next=newNode\n",
    "            tail=newNode\n",
    "    return head , tail\n",
    "\n",
    "def printl(head):\n",
    "    while head is not None:\n",
    "        print(head.data,end=\"->\")\n",
    "        head = head.next\n",
    "    print(None)\n",
    "\n",
    "def middle(head):\n",
    "    slow = head\n",
    "    fast = head\n",
    "    count=0\n",
    "    while (fast.next is not None) and fast.next.next is not None:\n",
    "        slow = slow.next\n",
    "        fast = fast.next.next\n",
    "        count = count+1\n",
    "    return count , slow.data\n",
    "\n",
    "head , tail = takesinput()\n",
    "printl(head)\n",
    "count= middle(head)\n",
    "print(\"count:\",count)"
   ]
  },
  {
   "cell_type": "code",
   "execution_count": 1,
   "metadata": {},
   "outputs": [
    {
     "name": "stdout",
     "output_type": "stream",
     "text": [
      "12 13 14 15 16 11 -1\n",
      "12->13->14->15->16->11->None\n",
      "11->12->13->14->15->16->None\n"
     ]
    }
   ],
   "source": [
    "#merge sort\n",
    "\n",
    "class Node:\n",
    "    def __init__(self,data):\n",
    "        self.data = data\n",
    "        self.next = None\n",
    "        \n",
    "def inputlist():\n",
    "    inputlistt =[int(ele) for ele in input().split()]\n",
    "    head = None\n",
    "    tail = head\n",
    "    \n",
    "    for currData in inputlistt:\n",
    "        if currData == -1:\n",
    "            break\n",
    "        newNode = Node(currData)\n",
    "        if head == None:\n",
    "            head = newNode\n",
    "            tail =head\n",
    "        else:\n",
    "            tail.next=newNode\n",
    "            tail=newNode\n",
    "    return head , tail\n",
    "\n",
    "\n",
    "def printl(head):\n",
    "    while head is not None:\n",
    "        print(head.data,end=\"->\")\n",
    "        head = head.next\n",
    "    print(None)\n",
    "\n",
    "        \n",
    "def middle(head):\n",
    "    slow = head\n",
    "    fast = head\n",
    "    while fast.next is not None and fast.next.next is not None :\n",
    "        slow =slow.next\n",
    "        fast =fast.next.next\n",
    "    return slow\n",
    "\n",
    "\n",
    "def merge_sort(head):\n",
    "    if head is None or head.next is None:\n",
    "        return head\n",
    "    mid = middle(head)\n",
    "    head1 = head\n",
    "    head2 = mid.next\n",
    "    mid.next = None\n",
    "    mid1 = merge_sort(head1)\n",
    "    mid2 = merge_sort(head2)\n",
    "    return merging(mid1,mid2)\n",
    "    \n",
    "    \n",
    "def merging(head1 ,head2):\n",
    "    if head1 == None:\n",
    "        return head2 \n",
    "    if head2 == None:\n",
    "        return head1\n",
    "    if head1.data <= head2.data :\n",
    "        finalhead = head1\n",
    "        head1=head1.next\n",
    "    else:\n",
    "        finalhead = head2\n",
    "        head2 = head2.next\n",
    "    \n",
    "    tail = finalhead\n",
    "    while head1 and head2 :\n",
    "        if head1.data <= head2.data :\n",
    "            tail.next=head1\n",
    "            tail= head1\n",
    "            head1 =head1.next\n",
    "        else:\n",
    "            tail.next=head2\n",
    "            tail= head2\n",
    "            tail = head2\n",
    "            head2 = head2.next\n",
    "    while head1 is not None:\n",
    "        tail.next = head1\n",
    "        tail = head1\n",
    "        head1 =head1.next\n",
    "    while head2 is not None:\n",
    "        tail.next =head2\n",
    "        tail =head2\n",
    "        head2 =head2.next\n",
    "        \n",
    "    return finalhead\n",
    "\n",
    "\n",
    "head , tail = inputlist()\n",
    "printl(head)\n",
    "\n",
    "finalhead=merge_sort(head)\n",
    "printl(finalhead)"
   ]
  },
  {
   "cell_type": "markdown",
   "metadata": {},
   "source": [
    "# STACK"
   ]
  },
  {
   "cell_type": "code",
   "execution_count": null,
   "metadata": {},
   "outputs": [],
   "source": [
    "A stack can be implemented in 3 ways :\n",
    "    1. using ARRAY\n",
    "    2. using Linked list\n",
    "    3. using inbuild function\n",
    "    4. using list as stack . the short comming is that it might take some more time to append\n",
    "    \n",
    "for other outside it will look like a stack  "
   ]
  },
  {
   "cell_type": "code",
   "execution_count": null,
   "metadata": {},
   "outputs": [],
   "source": [
    "stack functionalites\n",
    "push  (append)\n",
    "pop   (remove)\n",
    "top    (address of first)\n",
    "size   (returns the size of the stack)\n",
    "isempty (checks if the stack is empty or not)"
   ]
  },
  {
   "cell_type": "code",
   "execution_count": 22,
   "metadata": {},
   "outputs": [
    {
     "name": "stdout",
     "output_type": "stream",
     "text": [
      "10 12 18 15 13 12 1\n",
      "size= 7\n",
      "top= 1\n",
      "pop: 1\n",
      "12\n",
      "13\n",
      "15\n",
      "18\n",
      "12\n",
      "10\n"
     ]
    }
   ],
   "source": [
    "#stack using array\n",
    "class Stack :\n",
    "    def __init__(self):\n",
    "        self.__data = []\n",
    "        \n",
    "    def push(self,item):\n",
    "        self.__data.append(item)\n",
    "        \n",
    "    def pop(self):\n",
    "        if self.isempty():\n",
    "            print(\"its empty\")\n",
    "            return\n",
    "        return self.__data.pop()\n",
    "    \n",
    "    def top(self):\n",
    "        if self.isempty():\n",
    "            print(\"its empty\")\n",
    "            return\n",
    "        return self.__data[len(self.__data)-1]\n",
    "    \n",
    "    def size(self):\n",
    "        if self.isempty():\n",
    "            print(\"its empty\")\n",
    "            return\n",
    "        return len(self.__data)\n",
    "    \n",
    "    def isempty(self):\n",
    "        return len(self.__data)==0\n",
    "    \n",
    "    def printstack(self):\n",
    "        while s.isempty() is False:\n",
    "            print(s.pop())\n",
    "    \n",
    "li =[int(ele) for ele in input().split()]\n",
    "\n",
    "s=Stack()   \n",
    "for ele in li:\n",
    "    s.push(ele)\n",
    "    \n",
    "print(\"size=\",s.size())\n",
    "\n",
    "print(\"top=\",s.top())\n",
    "\n",
    "print(\"pop:\",s.pop())\n",
    "\n",
    "s.printstack()"
   ]
  },
  {
   "cell_type": "code",
   "execution_count": 25,
   "metadata": {},
   "outputs": [
    {
     "name": "stdout",
     "output_type": "stream",
     "text": [
      "size= 4\n",
      "top= 98\n",
      "pop: 98\n",
      "1\n",
      "2\n",
      "10\n"
     ]
    }
   ],
   "source": [
    "#stack using Linked List\n",
    "class Node :\n",
    "    def __init__(self,data):\n",
    "        self.data = data\n",
    "        self.next = None\n",
    "\n",
    "class stack:\n",
    "    def __init__(self):\n",
    "        self.__head = None\n",
    "        self.__count = 0\n",
    "        \n",
    "    def push(self,data):\n",
    "        newNode = Node(data)\n",
    "        newNode.next = self.__head\n",
    "        self.__head = newNode\n",
    "        self.__count = self.__count+1\n",
    "    \n",
    "    def pop(self):\n",
    "        if self.isempty():\n",
    "            return \"Stack is empty\"\n",
    "        \n",
    "        data = self.__head.data\n",
    "        self.__head =self.__head.next\n",
    "        self.__count =self.__count -1\n",
    "        return data\n",
    "    \n",
    "    def top(self):\n",
    "        if self.isempty():\n",
    "            return \"Stack is empty\"\n",
    "        data = self.__head.data\n",
    "        return data\n",
    "    \n",
    "    def size(self):\n",
    "        return self.__count\n",
    "    \n",
    "    def isempty(self):\n",
    "        return self.size()==0\n",
    "    \n",
    "    def printlist(self):\n",
    "        while self.isempty() is False:\n",
    "            print(s.pop())\n",
    "    \n",
    "s=stack()\n",
    "s.push(10)\n",
    "s.push(2)\n",
    "s.push(1)\n",
    "s.push(98)\n",
    "\n",
    "print(\"size=\",s.size())\n",
    "\n",
    "print(\"top=\",s.top())\n",
    "\n",
    "print(\"pop:\",s.pop())\n",
    "\n",
    "s.printlist()"
   ]
  },
  {
   "cell_type": "code",
   "execution_count": 5,
   "metadata": {},
   "outputs": [
    {
     "name": "stdout",
     "output_type": "stream",
     "text": [
      "10\n",
      "5\n",
      "1\n"
     ]
    }
   ],
   "source": [
    "#inbuilt stack\n",
    "#put - to include\n",
    "#get - to remove\n",
    "#q.size() - gives the size of the queue\n",
    "\n",
    "import queue\n",
    "q = queue.LifoQueue()\n",
    "q.put(1)\n",
    "q.put(5)\n",
    "q.put(10)\n",
    "while not q.empty():\n",
    "    print(q.get())"
   ]
  },
  {
   "cell_type": "code",
   "execution_count": 20,
   "metadata": {},
   "outputs": [
    {
     "name": "stdout",
     "output_type": "stream",
     "text": [
      "{(a+b)}\n",
      "True\n"
     ]
    }
   ],
   "source": [
    "#paranthesis check\n",
    "# {(a+b)} ==>true\n",
    "#{(}) ==> False\n",
    "\n",
    "def isbalanced(strings):\n",
    "    s=[]                                       \n",
    "    for char in strings:                         \n",
    "        if char in '{([':\n",
    "            s.append(char)                    \n",
    "            \n",
    "            \n",
    "        elif char in '}':\n",
    "            if not s or s[-1]!='{':\n",
    "                return False\n",
    "            \n",
    "            s.pop()\n",
    "        \n",
    "        elif char in ')':\n",
    "            if not s or s[-1]!='(':\n",
    "                return False\n",
    "            \n",
    "            s.pop()\n",
    "            \n",
    "        elif char in ']':\n",
    "            if not s or s[-1]!='[':\n",
    "                return False\n",
    "           \n",
    "            s.pop()\n",
    "            \n",
    "    if not s:\n",
    "        return True\n",
    "    return False\n",
    "        \n",
    "strings= input()\n",
    "\n",
    "ans = isbalanced(strings)\n",
    "print(ans)\n"
   ]
  },
  {
   "cell_type": "code",
   "execution_count": 7,
   "metadata": {},
   "outputs": [
    {
     "name": "stdout",
     "output_type": "stream",
     "text": [
      "False\n"
     ]
    }
   ],
   "source": [
    "a=[]\n",
    "if a:\n",
    "    print(True)\n",
    "else:\n",
    "    print(False)"
   ]
  },
  {
   "cell_type": "code",
   "execution_count": 1,
   "metadata": {},
   "outputs": [
    {
     "name": "stdout",
     "output_type": "stream",
     "text": [
      "5\n",
      "1 2 3 4 5\n",
      "1 2 3 4 5 "
     ]
    }
   ],
   "source": [
    "#reverse a stack \n",
    "#to reverse a stack we require two stack \n",
    "\n",
    "def reversestack(s1,s2):\n",
    "    if len(s1)<=1 :\n",
    "        return s1\n",
    "    while len(s1)!= 1 :\n",
    "        ele = s1.pop()\n",
    "        s2.append(ele)\n",
    "    last_element = s1.pop()\n",
    "    while (len(s2)!=0):\n",
    "        e = s2.pop()\n",
    "        s1.append(e)\n",
    "        \n",
    "    reversestack(s1,s2)\n",
    "    s1.append(last_element)\n",
    "    \n",
    "    return s1\n",
    "    \n",
    "\n",
    "\n",
    "n=int(input())\n",
    "s1=[int(ele) for ele in input().split()]\n",
    "s2=[]\n",
    "\n",
    "p=reversestack(s1,s2)\n",
    "while (len(p)!=0):\n",
    "    print(p.pop(),end=\" \")\n",
    "    "
   ]
  },
  {
   "cell_type": "code",
   "execution_count": 18,
   "metadata": {},
   "outputs": [
    {
     "name": "stdout",
     "output_type": "stream",
     "text": [
      "5\n",
      "1 2 3 4 5\n",
      "s1: 5 4 3 2 1 \n",
      "after reverse\n",
      "1 2 3 4 5 "
     ]
    }
   ],
   "source": [
    "import copy\n",
    "def reverseStack(s1,s2):\n",
    "    if len(s1) <= 1:\n",
    "        return s1\n",
    "    while len(s1)!= 1 :\n",
    "        ele = s1.pop()\n",
    "        s2.append(ele)\n",
    "        \n",
    "    last_element = s1.pop()\n",
    "    \n",
    "    while len(s2)!=0:\n",
    "        ele = s2.pop()\n",
    "        s1.append(ele)\n",
    "        \n",
    "    reversestack(s1,s2)\n",
    "    s1.append(last_element)\n",
    "    \n",
    "\n",
    "from sys import setrecursionlimit\n",
    "setrecursionlimit(11000)\n",
    "n = int(input())\n",
    "s1 = [int(ele) for ele in input().split()]\n",
    "print(\"s1:\",end=\" \")\n",
    "s3=copy.deepcopy(s1)\n",
    "while len(s3) !=0 :\n",
    "    print(s3.pop(),end= ' ')\n",
    "print()\n",
    "\n",
    "s2 = []\n",
    "reverseStack(s1,s2)\n",
    "print('after reverse')\n",
    "while len(s1) !=0 :\n",
    "    print(s1.pop(),end= ' ')\n"
   ]
  },
  {
   "cell_type": "code",
   "execution_count": 3,
   "metadata": {},
   "outputs": [
    {
     "name": "stdout",
     "output_type": "stream",
     "text": [
      "1 2 3 4 5\n",
      "s1: 5 4 3 2 1 \n",
      "after reverse\n",
      "1 2 3 4 5 "
     ]
    }
   ],
   "source": [
    "import copy\n",
    "def reverseStack(s1,s2):\n",
    "    if len(s1)<=1:\n",
    "        return s1\n",
    "    \n",
    "    while len(s1)!=1:\n",
    "        ele = s1.pop()\n",
    "        s2.append(ele)\n",
    "        \n",
    "    last_ele = s1.pop()\n",
    "    \n",
    "    while len(s2)!=0:\n",
    "        ele =s2.pop()\n",
    "        s1.append(ele)\n",
    "        \n",
    "    reverse(s1,s2)\n",
    "    s1.append(last_ele)\n",
    "    \n",
    "\n",
    "s1 = [int(ele) for ele in input().split()]\n",
    "print(\"s1:\",end=\" \")\n",
    "\n",
    "s3=copy.deepcopy(s1)\n",
    "while len(s3) !=0 :\n",
    "    print(s3.pop(),end= ' ')\n",
    "print()\n",
    "\n",
    "s2 = []\n",
    "reverseStack(s1,s2)\n",
    "print('after reverse')\n",
    "while len(s1) !=0 :\n",
    "    print(s1.pop(),end= ' ')"
   ]
  },
  {
   "cell_type": "markdown",
   "metadata": {},
   "source": [
    "# QUEUES"
   ]
  },
  {
   "cell_type": "code",
   "execution_count": null,
   "metadata": {},
   "outputs": [],
   "source": [
    "queue has 2 pointer front(or head) and rear(or tail) .\n",
    "\n",
    "front - front is used for deletion\n",
    "rear - rear is used for entering \n"
   ]
  },
  {
   "cell_type": "code",
   "execution_count": null,
   "metadata": {},
   "outputs": [],
   "source": [
    "functionalities of queues\n",
    "\n",
    "enqueue(push)\n",
    "dequeue(pop)\n",
    "size\n",
    "isempty\n",
    "front(top) = because deletion occurs from here\n"
   ]
  },
  {
   "cell_type": "code",
   "execution_count": null,
   "metadata": {},
   "outputs": [],
   "source": [
    "queue can be implemented using -\n",
    "array or list\n",
    "using linked list\n",
    "using 2 stacks\n",
    "using inbuilt queue"
   ]
  },
  {
   "cell_type": "code",
   "execution_count": 8,
   "metadata": {},
   "outputs": [
    {
     "name": "stdout",
     "output_type": "stream",
     "text": [
      "self.__front 1\n",
      "self.__size 2\n",
      "31\n",
      "40\n",
      "\n"
     ]
    }
   ],
   "source": [
    "#queue using array\n",
    "import copy\n",
    "class queue:\n",
    "    def __init__(self):\n",
    "        self.__data = []\n",
    "        self.__count = 0\n",
    "        self.__front = 0\n",
    "        \n",
    "    def enqueue(self,element):\n",
    "        self.__data.append(element)\n",
    "        self.__count = self.__count+1\n",
    "        \n",
    "    def dequeue(self):\n",
    "        if self.isempty() is True :\n",
    "            return \"queue is empty\"\n",
    "                                           #in dequeue i am not removing the queue im just moving the front pointer\n",
    "        ele = self.__data[self.__front]\n",
    "        self.__front =self.__front+1\n",
    "        self.__count =self.__count-1\n",
    "        \n",
    "    def front(self):\n",
    "        if self.isempty is True:\n",
    "            return \"queue is empty\"\n",
    "        return self.data[self.__front]\n",
    "        \n",
    "    def size(self):\n",
    "        return self.__count\n",
    "    \n",
    "    def isempty(self):\n",
    "        return self.size() == 0\n",
    "    \n",
    "    def printqueue(self):\n",
    "        print(\"self.__front\",self.__front)\n",
    "        print(\"self.__size\",self.size())\n",
    "        i=self.__front\n",
    "        while i <= self.size():\n",
    "            print(self.__data[i])\n",
    "            i=i+1\n",
    "            \n",
    "        print()\n",
    "    \n",
    "    \n",
    "q=queue()\n",
    "q.enqueue(10)\n",
    "q.enqueue(31)\n",
    "q.enqueue(40)\n",
    "\n",
    "q.dequeue()\n",
    "q.printqueue()"
   ]
  },
  {
   "cell_type": "code",
   "execution_count": 10,
   "metadata": {},
   "outputs": [
    {
     "name": "stdout",
     "output_type": "stream",
     "text": [
      "1\n",
      "2\n"
     ]
    }
   ],
   "source": [
    "a=[1,2,3,4]\n",
    "c=0\n",
    "ele =a[c]\n",
    "print(ele)\n",
    "c=c+1\n",
    "print(a[c])"
   ]
  },
  {
   "cell_type": "code",
   "execution_count": 17,
   "metadata": {},
   "outputs": [
    {
     "name": "stdout",
     "output_type": "stream",
     "text": [
      "enqueue complete\n",
      "enqueue complete\n",
      "enqueue complete\n",
      "dequeue: 10\n",
      "fornt 20\n",
      "fornt 30\n",
      "queue is empty\n"
     ]
    }
   ],
   "source": [
    "#queue using linked list using two pointer front and rear\n",
    "class Node:\n",
    "    def __init__(self,data):\n",
    "        self.data = data\n",
    "        self.next =None\n",
    "class queue:\n",
    "    def __init__(self):\n",
    "        self.__front = None\n",
    "        self.__rear  = None\n",
    "        self.__count = 0\n",
    "        \n",
    "    def enqueue(self,element):\n",
    "        newNode=Node(element)\n",
    "        if self.isempty() is True:\n",
    "            self.__front = newNode\n",
    "            self.__rear = self.__front\n",
    "        else:\n",
    "            self.__rear.next = newNode\n",
    "            self.__rear =newNode\n",
    "        self.__count =self.__count + 1\n",
    "        \n",
    "        return print(\"enqueue complete\")\n",
    "    \n",
    "    def dequeue(self):\n",
    "        if self.isempty() is True:\n",
    "            return print(\"queue is empty\")\n",
    "        ele = self.__front.data\n",
    "        self.__front = self.__front.next\n",
    "        self.__count = self.__count - 1\n",
    "        return print(\"dequeue:\",ele)\n",
    "    \n",
    "    def size(self):\n",
    "        return self.__count\n",
    "    \n",
    "    def isempty(self):\n",
    "        return self.size()==0\n",
    "    \n",
    "    def front(self):\n",
    "        if self.isempty() is True:\n",
    "            return print(\"queue is empty\")\n",
    "        ele = self.__front.data\n",
    "        self.__front = self.__front.next\n",
    "        self.__count =self.__count-1\n",
    "        return print(\"fornt\" , ele)\n",
    "    \n",
    "    \n",
    "q=queue()\n",
    "q.enqueue(10)\n",
    "q.enqueue(20)\n",
    "q.enqueue(30)\n",
    "q.dequeue()\n",
    "q.front()\n",
    "q.front()\n",
    "q.front()"
   ]
  },
  {
   "cell_type": "code",
   "execution_count": null,
   "metadata": {},
   "outputs": [],
   "source": [
    "if we have used only one pointer front . then the insertion at rear takes worst case time complexity ie.; O(N)"
   ]
  },
  {
   "cell_type": "code",
   "execution_count": 34,
   "metadata": {},
   "outputs": [
    {
     "name": "stdout",
     "output_type": "stream",
     "text": [
      "False\n",
      "20\n",
      "50\n",
      "90\n"
     ]
    }
   ],
   "source": [
    "#inbuild queue\n",
    "import queue\n",
    "q=queue.Queue()\n",
    "q.put(20)\n",
    "q.put(50)\n",
    "q.put(90)\n",
    "print(q.empty())\n",
    "while q.empty() is False:\n",
    "    print(q.get())"
   ]
  },
  {
   "cell_type": "code",
   "execution_count": 8,
   "metadata": {},
   "outputs": [
    {
     "name": "stdout",
     "output_type": "stream",
     "text": [
      "enqueue successfull\n",
      "enqueue successfull\n",
      "enqueue successfull\n",
      "dequeue 1\n",
      "front 21\n"
     ]
    }
   ],
   "source": [
    "#queue using 2 stack\n",
    "\n",
    "#method 1 enqueue(O(N))  dequeue(O(1))\n",
    "class queue:\n",
    "    def __init__(self):\n",
    "        self.__s1=[]\n",
    "        self.__s2=[]\n",
    "        \n",
    "    def enqueue(self,data):\n",
    "        while len(self.__s1)!=0:\n",
    "            self.__s2.append(self.__s1.pop())\n",
    "            \n",
    "        self.__s1.append(data)\n",
    "        \n",
    "        while len(self.__s2) !=0:\n",
    "            self.__s1.append(self.__s2.pop())\n",
    "            \n",
    "        return print(\"enqueue successfull\")\n",
    "            \n",
    "    def dequeue(self):\n",
    "        if len(self.__s1) == 0:\n",
    "            return Print(\"queue is empty\")\n",
    "        ele=self.__s1.pop()\n",
    "        return print('dequeue',ele)\n",
    "    \n",
    "    def front(self):\n",
    "        if len(self.__s1) == 0:\n",
    "            return Print(\"queue is empty\")\n",
    "        return print(\"front\",self.__s1[-1])\n",
    "    \n",
    "s=queue()\n",
    "s.enqueue(1)\n",
    "s.enqueue(21)\n",
    "s.enqueue(31)    \n",
    "\n",
    "s.dequeue()\n",
    "s.front()"
   ]
  },
  {
   "cell_type": "code",
   "execution_count": 15,
   "metadata": {},
   "outputs": [
    {
     "name": "stdout",
     "output_type": "stream",
     "text": [
      "enqueued done!\n",
      "enqueued done!\n",
      "enqueued done!\n",
      "enqueued done!\n",
      "enqueued done!\n",
      "dequeue :: 10\n",
      "front 20\n"
     ]
    }
   ],
   "source": [
    "#queue using 2 stack\n",
    "\n",
    "#method 1 enqueue(O(1))  dequeue(O(N))\n",
    "\n",
    "class queue:\n",
    "    def __init__(self):\n",
    "        self.__s1=[]\n",
    "        self.__s2=[]\n",
    "    \n",
    "    def enqueue(self,data):\n",
    "        self.__s1.append(data)\n",
    "        return print(\"enqueued done!\")\n",
    "        \n",
    "    def dequeue(self):\n",
    "        while len(self.__s1)!=1:\n",
    "            self.__s2.append(self.__s1.pop())\n",
    "            \n",
    "        last_ele = self.__s1.pop()\n",
    "        \n",
    "        while len(self.__s2) !=0:\n",
    "            self.__s1.append(self.__s2.pop())\n",
    "            \n",
    "        return print('dequeue ::',last_ele)\n",
    "    \n",
    "    def front(self):\n",
    "        if len(self.__s1) == 0:\n",
    "            return Print(\"queue is empty\")\n",
    "        return print(\"front\",self.__s1[0])\n",
    "    \n",
    "    \n",
    "s=queue()\n",
    "s.enqueue(10)\n",
    "s.enqueue(20)\n",
    "s.enqueue(30)\n",
    "s.enqueue(40)\n",
    "s.enqueue(50)\n",
    "    \n",
    "s.dequeue()\n",
    "s.front()"
   ]
  },
  {
   "cell_type": "code",
   "execution_count": 6,
   "metadata": {},
   "outputs": [
    {
     "name": "stdout",
     "output_type": "stream",
     "text": [
      "ENQUEUE SUCCESSFULL!!\n",
      "ENQUEUE SUCCESSFULL!!\n",
      "ENQUEUE SUCCESSFULL!!\n",
      "50->60->70->None\n",
      "70->60->50->None\n",
      "dequeuedd!! 50\n"
     ]
    }
   ],
   "source": [
    "#reversing a queue\n",
    "\n",
    "#using linked list\n",
    "\n",
    "import copy\n",
    "\n",
    "class Node:\n",
    "    def __init__(self,data):\n",
    "        self.data = data\n",
    "        self.next = None\n",
    "        \n",
    "class Queue:\n",
    "    def __init__(self):\n",
    "        self.__front = None     #used for deletion of elements in queue\n",
    "        self.__rear  = None     #used for insertion of elements in queue\n",
    "        self.__count = 0\n",
    "        \n",
    "    def enqueue(self,data):\n",
    "        newNode = Node(data)\n",
    "        if self.__front is None:\n",
    "            self.__front = newNode\n",
    "            self.__rear = self.__front\n",
    "        else:\n",
    "            self.__rear.next = newNode\n",
    "            self.__rear = newNode\n",
    "            \n",
    "        return print(\"ENQUEUE SUCCESSFULL!!\")\n",
    "    \n",
    "    def dequeue(self):\n",
    "        if self.__front is None:\n",
    "            return print('queue is empty')\n",
    "        ele = self.__front.data\n",
    "        self.__front = self.__front.next\n",
    "        \n",
    "        return print(\"dequeuedd!!\",ele)\n",
    "    \n",
    "    def front(self):\n",
    "        if self.__front is None:\n",
    "            return print('queue is empty')\n",
    "        return print(\"front\",self.__rear.data)\n",
    "    \n",
    "    def printqueue(self):\n",
    "        c= copy.deepcopy(self.__front)\n",
    "        while c is not None:\n",
    "            print(c.data,end=\"->\")\n",
    "            c=c.next\n",
    "        print(\"None\")\n",
    "    \n",
    "    def reverse(self):\n",
    "        if self.__front is None:\n",
    "            return\n",
    "        \n",
    "        prev = None\n",
    "        curr = self.__front\n",
    "        next1 = curr.next\n",
    "        \n",
    "        while curr.next is not None:\n",
    "            \n",
    "            curr.next = prev\n",
    "            prev = curr\n",
    "            curr = next1\n",
    "            next1 = next1.next\n",
    "            \n",
    "        curr.next = prev \n",
    "        prev = curr\n",
    "        \n",
    "        return prev\n",
    "    \n",
    "\n",
    "\n",
    "a=Queue()\n",
    "a.enqueue(50)\n",
    "a.enqueue(60)\n",
    "a.enqueue(70)\n",
    "\n",
    "a.printqueue()\n",
    "\n",
    "#a.front()\n",
    "\n",
    "head = a.reverse()\n",
    "while head is not None:\n",
    "    print(head.data,end=\"->\")\n",
    "    head = head.next\n",
    "print('None')\n",
    "\n",
    "a.dequeue()"
   ]
  },
  {
   "cell_type": "markdown",
   "metadata": {},
   "source": [
    "# BINARY TREES"
   ]
  },
  {
   "cell_type": "markdown",
   "metadata": {},
   "source": [
    "# part 1"
   ]
  },
  {
   "cell_type": "code",
   "execution_count": 1,
   "metadata": {},
   "outputs": [],
   "source": [
    "#to create a binary tree note\n",
    "class Tree :\n",
    "    def __init__(self,data):\n",
    "        self.left = None\n",
    "        self.data = data\n",
    "        self.right = None\n",
    "        \n",
    "a=Tree(1)\n",
    "b=Tree(2)\n",
    "c=Tree(3)\n",
    "\n",
    "a.left = b\n",
    "a.rght = c"
   ]
  },
  {
   "cell_type": "code",
   "execution_count": 9,
   "metadata": {},
   "outputs": [
    {
     "name": "stdout",
     "output_type": "stream",
     "text": [
      "1\n",
      "2\n",
      "5\n",
      "3\n"
     ]
    }
   ],
   "source": [
    "#how to print a tree\n",
    "\n",
    "\n",
    "class Tree :\n",
    "    def __init__(self,data):\n",
    "        \n",
    "        self.data = data\n",
    "        self.left = None\n",
    "        self.right = None\n",
    "\n",
    "\n",
    "def printtree(root):\n",
    "    #base case\n",
    "    if root is None:\n",
    "        return\n",
    "    \n",
    "    \n",
    "    print(root.data)\n",
    "    printtree(root.left)\n",
    "    printtree(root.right)\n",
    "    \n",
    "    \n",
    "a=Tree(1)\n",
    "b=Tree(2)\n",
    "c=Tree(3)\n",
    "d=Tree(5)\n",
    "\n",
    "a.left = b\n",
    "a.right = c\n",
    "b.right = d\n",
    "printtree(a)"
   ]
  },
  {
   "cell_type": "code",
   "execution_count": null,
   "metadata": {},
   "outputs": [],
   "source": [
    "#to print in this manner\n",
    "#1: 2 3\n",
    "#2: 5 None\n",
    "#3: None None"
   ]
  },
  {
   "cell_type": "code",
   "execution_count": 3,
   "metadata": {},
   "outputs": [
    {
     "name": "stdout",
     "output_type": "stream",
     "text": [
      "1 : L 2 R 3 \n",
      "2 : None R 5 \n",
      "5 : L 1 R 2 \n",
      "1 : None None \n",
      "2 : L 3 R 5 \n",
      "3 : None None \n",
      "5 : None None \n",
      "3 : None None \n"
     ]
    }
   ],
   "source": [
    "class BinaryTree:\n",
    "    def __init__(self,data):\n",
    "        self.data = data\n",
    "        self.left = None\n",
    "        self.right = None\n",
    "        \n",
    "def printBinaryTree(root):\n",
    "    #base case\n",
    "    if root is None:\n",
    "        return \n",
    "    print(root.data,\":\",end=\" \")\n",
    "###    \n",
    "    if root.left is not None:\n",
    "        print('L',root.left.data,end=\" \")\n",
    "    else:\n",
    "        print(\"None\",end=\" \")\n",
    "###        \n",
    "    if root.right is not None:\n",
    "        print('R',root.right.data,end=\" \")\n",
    "    else:\n",
    "        print(\"None\",end=\" \")\n",
    "        \n",
    "    print()\n",
    "    \n",
    "    printBinaryTree(root.left)\n",
    "    printBinaryTree(root.right)\n",
    "    \n",
    "a=BinaryTree(1)\n",
    "b=BinaryTree(2)\n",
    "c=BinaryTree(3)\n",
    "d=BinaryTree(5)\n",
    "e=BinaryTree(1)\n",
    "f=BinaryTree(2)\n",
    "g=BinaryTree(3)\n",
    "h=BinaryTree(5)\n",
    "\n",
    "a.left = b\n",
    "a.right = c\n",
    "b.right = d\n",
    "d.left = e\n",
    "d.right = f\n",
    "f.left = g\n",
    "f.right = h\n",
    "\n",
    "printBinaryTree(a)\n"
   ]
  },
  {
   "cell_type": "code",
   "execution_count": 1,
   "metadata": {},
   "outputs": [
    {
     "name": "stdout",
     "output_type": "stream",
     "text": [
      "1\n",
      "2\n",
      "4\n",
      "-1\n",
      "-1\n",
      "5\n",
      "-1\n",
      "-1\n",
      "3\n",
      "-1\n",
      "7\n",
      "-1\n",
      "-1\n",
      "1 : L 2 R 3 \n",
      "2 : L 4 R 5 \n",
      "4 : None None \n",
      "5 : None None \n",
      "3 : None R 7 \n",
      "7 : None None \n"
     ]
    }
   ],
   "source": [
    "#how to take input for the binary tree\n",
    "class BinaryTree:\n",
    "    def __init__(self,data):\n",
    "        self.data = data\n",
    "        self.left = None\n",
    "        self.right = None\n",
    "        \n",
    "        \n",
    "def takeinput():\n",
    "    rootData = int(input())\n",
    "    if rootData == -1 :\n",
    "        return None\n",
    "    \n",
    "    root = BinaryTree(rootData)\n",
    "    leftTree = takeinput()\n",
    "    rightTree = takeinput()\n",
    "    \n",
    "    root.left = leftTree\n",
    "    root.right = rightTree\n",
    "    \n",
    "    return root\n",
    "    \n",
    "def printBinaryTree(root):\n",
    "    #base case\n",
    "    if root is None:\n",
    "        return \n",
    "    print(root.data,\":\",end=\" \")\n",
    "    if root.left is not None:\n",
    "        print('L',root.left.data,end=\" \")\n",
    "    else:\n",
    "        print(\"None\",end=\" \")       \n",
    "    if root.right is not None:\n",
    "        print('R',root.right.data,end=\" \")\n",
    "    else:\n",
    "        print(\"None\",end=\" \")\n",
    "        \n",
    "    print()\n",
    "    \n",
    "    printBinaryTree(root.left)\n",
    "    printBinaryTree(root.right)\n",
    "\n",
    "root = takeinput()\n",
    "printBinaryTree(root)"
   ]
  },
  {
   "cell_type": "code",
   "execution_count": 2,
   "metadata": {},
   "outputs": [
    {
     "data": {
      "text/plain": [
       "6"
      ]
     },
     "execution_count": 2,
     "metadata": {},
     "output_type": "execute_result"
    }
   ],
   "source": [
    "#how to count number of nodes in a binary tree\n",
    "\n",
    "def numofnodes(root):\n",
    "    if root is None:\n",
    "        return 0\n",
    "    leftCount = numofnodes(root.left)\n",
    "    rightCount = numofnodes(root.right)\n",
    "    return 1+leftCount+rightCount\n",
    "\n",
    "numofnodes(root)"
   ]
  },
  {
   "cell_type": "code",
   "execution_count": 7,
   "metadata": {},
   "outputs": [
    {
     "data": {
      "text/plain": [
       "22"
      ]
     },
     "execution_count": 7,
     "metadata": {},
     "output_type": "execute_result"
    }
   ],
   "source": [
    "#how to get the sum of nodes in the binary tree\n",
    "def sumofnodes(root):\n",
    "    if root is None:\n",
    "        return 0\n",
    "    \n",
    "    return (root.data + sumofnodes(root.left) + sumofnodes(root.right))\n",
    "\n",
    "sumofnodes(root)"
   ]
  },
  {
   "cell_type": "code",
   "execution_count": 9,
   "metadata": {},
   "outputs": [
    {
     "data": {
      "text/plain": [
       "7"
      ]
     },
     "execution_count": 9,
     "metadata": {},
     "output_type": "execute_result"
    }
   ],
   "source": [
    "#print the node with the largest data\n",
    "def largestData(root):\n",
    "    if root is None:\n",
    "        return -1  #ideally returns -infinity\n",
    "    \n",
    "    leftLarge = largestData(root.left)\n",
    "    rightLarge= largestData(root.right)\n",
    "    \n",
    "    return max(root.data , leftLarge , rightLarge)\n",
    "\n",
    "largestData(root) "
   ]
  },
  {
   "cell_type": "code",
   "execution_count": 13,
   "metadata": {},
   "outputs": [
    {
     "name": "stdout",
     "output_type": "stream",
     "text": [
      "4\n",
      "5\n",
      "3\n",
      "7\n"
     ]
    }
   ],
   "source": [
    "#to print the nodes larger than number X\n",
    "\n",
    "def largerdatas(root,x):\n",
    "    if root is None:\n",
    "        return\n",
    "    if root.data >= x :\n",
    "        print(root.data)\n",
    "        \n",
    "    largerdatas(root.left , x)\n",
    "    largerdatas(root.right , x)\n",
    "    \n",
    "largerdatas(root,3)"
   ]
  },
  {
   "cell_type": "code",
   "execution_count": 15,
   "metadata": {},
   "outputs": [
    {
     "data": {
      "text/plain": [
       "3"
      ]
     },
     "execution_count": 15,
     "metadata": {},
     "output_type": "execute_result"
    }
   ],
   "source": [
    "#to print height of the tree\n",
    "def heightoftree(root):\n",
    "    if root is None:\n",
    "        return 0\n",
    "    lDepth = heightoftree(root.left)\n",
    "    rDepth = heightoftree(root.right)\n",
    "    \n",
    "    if lDepth > rDepth:\n",
    "        return lDepth +1\n",
    "    else:\n",
    "        return rDepth +1\n",
    "    \n",
    "heightoftree(root)"
   ]
  },
  {
   "cell_type": "code",
   "execution_count": 25,
   "metadata": {},
   "outputs": [
    {
     "data": {
      "text/plain": [
       "3"
      ]
     },
     "execution_count": 25,
     "metadata": {},
     "output_type": "execute_result"
    }
   ],
   "source": [
    "#number of leaf nodes in a binary tree\n",
    "def leafNodes(root):\n",
    "    #base case\n",
    "    if root is None:\n",
    "        return 0\n",
    "    if root.left is None or root.right is None:\n",
    "        return 1\n",
    "    #induction step as well as return\n",
    "    return leafNodes(root.left) + leafNodes(root.right)\n",
    "\n",
    "leafNodes(root)"
   ]
  },
  {
   "cell_type": "code",
   "execution_count": 29,
   "metadata": {},
   "outputs": [
    {
     "name": "stdout",
     "output_type": "stream",
     "text": [
      "2\n",
      "3\n"
     ]
    }
   ],
   "source": [
    "#print nodes at depth 'K'\n",
    "#way1\n",
    "def depth(root,k):\n",
    "    if  root is None:\n",
    "        return \n",
    "    if k == 0:\n",
    "        print(root.data)\n",
    "        return\n",
    "        \n",
    "    depth(root.left,k-1)\n",
    "    depth(root.right,k-1)\n",
    "    \n",
    "depth(root,1) "
   ]
  },
  {
   "cell_type": "code",
   "execution_count": 36,
   "metadata": {},
   "outputs": [
    {
     "name": "stdout",
     "output_type": "stream",
     "text": [
      "2\n",
      "3\n"
     ]
    }
   ],
   "source": [
    "#print nodes at depth 'K'\n",
    "#way1\n",
    "def depthk(root,k,i=0):\n",
    "    if  root is None:\n",
    "        return \n",
    "    if k == i:\n",
    "        print(root.data)\n",
    "        return\n",
    "        \n",
    "    depthk(root.left,k,i+1)\n",
    "    depthk(root.right,k,i+1)\n",
    "    \n",
    "depthk(root,1) "
   ]
  },
  {
   "cell_type": "markdown",
   "metadata": {},
   "source": [
    "# part 2"
   ]
  },
  {
   "cell_type": "code",
   "execution_count": 11,
   "metadata": {},
   "outputs": [
    {
     "name": "stdout",
     "output_type": "stream",
     "text": [
      "1\n",
      "2\n",
      "3\n",
      "4\n",
      "5\n",
      "-1\n",
      "-1\n",
      "-1\n",
      "-1\n",
      "-1\n",
      "3\n",
      "-1\n",
      "-1\n",
      "1 : 2 3 \n",
      "2 : 3 None \n",
      "3 : 4 None \n",
      "4 : 5 None \n",
      "5 : None \n",
      "3 : None \n"
     ]
    }
   ],
   "source": [
    "class binarytree:\n",
    "    def __init__(self,data):\n",
    "        self.data = data\n",
    "        self.left = None\n",
    "        self.right = None\n",
    "        \n",
    "def insertion():\n",
    "    currData = int(input())\n",
    "    if currData == -1:\n",
    "        return None\n",
    "    root = binarytree(currData)\n",
    "    lefttree = insertion()\n",
    "    righttree = insertion()\n",
    "    \n",
    "    root.left = lefttree\n",
    "    root.right = righttree\n",
    "    return root\n",
    "\n",
    "def printbinaryttree(root):\n",
    "    if root is None:\n",
    "        return\n",
    "    print(root.data,\":\",end=\" \")\n",
    "    \n",
    "    if root.left is not None:\n",
    "        print(root.left.data ,end=\" \")\n",
    "    if root.right is not None:\n",
    "        print(root.right.data ,end=\" \")\n",
    "    else:\n",
    "        print(\"None\",end=\" \")\n",
    "    print()\n",
    "    \n",
    "    printbinaryttree(root.left)\n",
    "    printbinaryttree(root.right)\n",
    "    \n",
    "    return\n",
    "\n",
    "\n",
    "root = insertion()\n",
    "printbinaryttree(root)"
   ]
  },
  {
   "cell_type": "code",
   "execution_count": 11,
   "metadata": {},
   "outputs": [
    {
     "name": "stdout",
     "output_type": "stream",
     "text": [
      "1 : None \n"
     ]
    }
   ],
   "source": [
    "#remove the leaf nodes\n",
    "\n",
    "# binary tree is \n",
    "# 1:2 3\n",
    "# 2:NONE NONE\n",
    "#3:NONE NONE\n",
    "\n",
    "#OUTPUT: (leave nodes needs to be removed ie.; 2 and 3)\n",
    "#1:none none\n",
    "\n",
    "def removeleafnodes(root):\n",
    "    if root is None:\n",
    "        return None\n",
    "    if root.left is None and root.right is None:\n",
    "        return None\n",
    "    \n",
    "    root.left =  removeleafnodes(root.left)\n",
    "    root.right = removeleafnodes(root.right)\n",
    "    \n",
    "    return root\n",
    "\n",
    "newroot=removeleafnodes(root)\n",
    "printbinaryttree(newroot)"
   ]
  },
  {
   "cell_type": "code",
   "execution_count": 17,
   "metadata": {},
   "outputs": [
    {
     "name": "stdout",
     "output_type": "stream",
     "text": [
      "1\n",
      "2\n",
      "4\n",
      "-1\n",
      "-1\n",
      "5\n",
      "-1\n",
      "-1\n",
      "3\n",
      "6\n",
      "-1\n",
      "-1\n",
      "7\n",
      "-1\n",
      "-1\n",
      "1 : 2 3 \n",
      "2 : 4 5 \n",
      "4 : None \n",
      "5 : None \n",
      "3 : 6 7 \n",
      "6 : None \n",
      "7 : None \n",
      "*****************\n",
      "1 : 3 2 \n",
      "3 : 7 6 \n",
      "7 : None \n",
      "6 : None \n",
      "2 : 5 4 \n",
      "5 : None \n",
      "4 : None \n"
     ]
    }
   ],
   "source": [
    "#to print the mirror Binary tree\n",
    "def mirrorimage(root):\n",
    "    if root is None:\n",
    "        return None\n",
    "    if root.left is not None or root.right is not None:\n",
    "        root.left ,root.right = root.right ,root.left\n",
    "    \n",
    "    mirrorimage(root.left)\n",
    "    mirrorimage(root.right)\n",
    "    \n",
    "    return root\n",
    "        \n",
    "root = insertion()\n",
    "printbinaryttree(root)\n",
    "print(\"*****************\")\n",
    "root = mirrorimage(root)\n",
    "printbinaryttree(root)"
   ]
  },
  {
   "cell_type": "code",
   "execution_count": 21,
   "metadata": {},
   "outputs": [
    {
     "data": {
      "text/plain": [
       "True"
      ]
     },
     "execution_count": 21,
     "metadata": {},
     "output_type": "execute_result"
    }
   ],
   "source": [
    "#to check if the given binary tree is a balanced tree or not\n",
    "#Time Complexity O(n*h)\n",
    "def height(root):\n",
    "    if root is None:\n",
    "        return 0\n",
    "    leftcount = height(root.left)\n",
    "    rightcount = height(root.right)\n",
    "    \n",
    "    return 1+ max(leftcount,rightcount)\n",
    "\n",
    "def isBalanced(root):\n",
    "    if root is None:\n",
    "        return True\n",
    "    lc = height(root.left)\n",
    "    rc = height(root.right)\n",
    "    if lc - rc >1 or rc - lc >1 :\n",
    "        return False\n",
    "    \n",
    "    isleft = isBalanced(root.left)\n",
    "    isright = isBalanced(root.right)\n",
    "    if isleft and isright :\n",
    "        return True\n",
    "    else:\n",
    "        return False\n",
    "    \n",
    "isBalanced(root)"
   ]
  },
  {
   "cell_type": "code",
   "execution_count": 9,
   "metadata": {},
   "outputs": [
    {
     "name": "stdout",
     "output_type": "stream",
     "text": [
      "1\n",
      "2\n",
      "5\n",
      "5\n",
      "-1\n",
      "-1\n",
      "-1\n",
      "-1\n",
      "3\n",
      "-1\n",
      "6\n",
      "-1\n",
      "-1\n",
      "1 : 2 3 \n",
      "2 : 5 None \n",
      "5 : 5 None \n",
      "5 : None \n",
      "3 : 6 \n",
      "6 : None \n",
      "(4, False)\n"
     ]
    }
   ],
   "source": [
    "#improved version of isBalanced\n",
    "# Time Complexity O(N)\n",
    "def getheightandcheckbalanced(root):\n",
    "    if root is None:\n",
    "        return 0 , True      #height , isbalanced(true or false)\n",
    "    \n",
    "    \n",
    "    lh , leftBalanced  = getheightandcheckbalanced(root.left)\n",
    "    rh , rightBalanced = getheightandcheckbalanced(root.right)\n",
    "    \n",
    "    h = 1 + max(lh , rh)\n",
    "    \n",
    "    if lh - rh >1 or rh -lh >1:\n",
    "        return h , False\n",
    "    \n",
    "    if leftBalanced and rightBalanced:\n",
    "        return h , True\n",
    "    else:\n",
    "        return h , False\n",
    "    \n",
    "root = insertion()\n",
    "printbinaryttree(root)\n",
    "\n",
    "print(getheightandcheckbalanced(root))"
   ]
  },
  {
   "cell_type": "code",
   "execution_count": 14,
   "metadata": {},
   "outputs": [
    {
     "data": {
      "text/plain": [
       "6"
      ]
     },
     "execution_count": 14,
     "metadata": {},
     "output_type": "execute_result"
    }
   ],
   "source": [
    "#to find the diameter of the given binary tree\n",
    "#O(N*h)\n",
    "def diameter(root):   \n",
    "    if root is None: \n",
    "        return 0; \n",
    "  \n",
    "    # Get the height of left and right sub-trees \n",
    "    lheight = height(root.left) \n",
    "    rheight = height(root.right) \n",
    "  \n",
    "    # Get the diameter of left and irgh sub-trees \n",
    "    ldiameter = diameter(root.left) \n",
    "    rdiameter = diameter(root.right) \n",
    "  \n",
    "    # Return max of the following tree: \n",
    "    # 1) Diameter of left subtree \n",
    "    # 2) Diameter of right subtree \n",
    "    # 3) Height of left subtree + height of right subtree +1  \n",
    "    return max(lheight + rheight + 1, max(ldiameter, rdiameter)) \n",
    "  \n",
    "diameter(root)"
   ]
  },
  {
   "cell_type": "code",
   "execution_count": 12,
   "metadata": {},
   "outputs": [
    {
     "data": {
      "text/plain": [
       "(5, 6)"
      ]
     },
     "execution_count": 12,
     "metadata": {},
     "output_type": "execute_result"
    }
   ],
   "source": [
    "#to find the diameter of the given binary tree (improved version)\n",
    "#O(N)\n",
    "def diameters(root):\n",
    "    if root is None:\n",
    "        return 0,0\n",
    "    lheight , ldiameter =diameters(root.left) \n",
    "    rheight ,  rdiameter =diameters(root.right) \n",
    "    \n",
    "    height = 1 + max(lheight , rheight)\n",
    "    \n",
    "    return height , max(lheight+rheight+1 , max(ldiameter , rdiameter))\n",
    "\n",
    "diameters(root)"
   ]
  },
  {
   "cell_type": "markdown",
   "metadata": {},
   "source": [
    "# taking input level wise"
   ]
  },
  {
   "cell_type": "code",
   "execution_count": 15,
   "metadata": {},
   "outputs": [
    {
     "name": "stdout",
     "output_type": "stream",
     "text": [
      "Enter Root Data\n",
      "1\n",
      "Enter left child of  1\n",
      "2\n",
      "Enter right child of  1\n",
      "3\n",
      "Enter left child of  2\n",
      "4\n",
      "Enter right child of  2\n",
      "5\n",
      "Enter left child of  3\n",
      "6\n",
      "Enter right child of  3\n",
      "7\n",
      "Enter left child of  4\n",
      "-1\n",
      "Enter right child of  4\n",
      "-1\n",
      "Enter left child of  5\n",
      "8\n",
      "Enter right child of  5\n",
      "-1\n",
      "Enter left child of  6\n",
      "-1\n",
      "Enter right child of  6\n",
      "-1\n",
      "Enter left child of  7\n",
      "-1\n",
      "Enter right child of  7\n",
      "-1\n",
      "Enter left child of  8\n",
      "-1\n",
      "Enter right child of  8\n",
      "-1\n",
      "1 : 2 3 \n",
      "2 : 4 5 \n",
      "4 : None \n",
      "5 : 8 None \n",
      "8 : None \n",
      "3 : 6 7 \n",
      "6 : None \n",
      "7 : None \n"
     ]
    }
   ],
   "source": [
    "#taking input levelwise\n",
    "class BinaryTreeNode:\n",
    "    def __init__(self,data):\n",
    "        self.data = data\n",
    "        self.left = None\n",
    "        self.right = None\n",
    "\n",
    "import queue\n",
    "def takeinputlevelwise():\n",
    "    q = queue.Queue()\n",
    "    \n",
    "    print('Enter Root Data')\n",
    "    rootData = int(input())\n",
    "    if rootData == -1 :\n",
    "        return None\n",
    "    root = BinaryTreeNode(rootData)\n",
    "    q.put(root)\n",
    "    \n",
    "    while not(q.empty()):\n",
    "        current_node = q.get()\n",
    "        print(\"Enter left child of \",current_node.data)\n",
    "        leftChildData = int(input())\n",
    "        if leftChildData != -1:\n",
    "            leftChild = BinaryTreeNode(leftChildData)\n",
    "            current_node.left = leftChild\n",
    "            q.put(leftChild)\n",
    "            \n",
    "        print(\"Enter right child of \",current_node.data)\n",
    "        rightChildData = int(input())\n",
    "        if rightChildData != -1:\n",
    "            rightChild = BinaryTreeNode(rightChildData)\n",
    "            current_node.right = rightChild\n",
    "            q.put(rightChild)\n",
    "            \n",
    "            \n",
    "    return root\n",
    "\n",
    "root = takeinputlevelwise()\n",
    "printbinaryttree(root)"
   ]
  },
  {
   "cell_type": "code",
   "execution_count": 33,
   "metadata": {},
   "outputs": [
    {
     "name": "stdout",
     "output_type": "stream",
     "text": [
      "Enter Root Data\n",
      "1\n",
      "Enter left child of  1\n",
      "2\n",
      "Enter right child of  1\n",
      "3\n",
      "Enter left child of  2\n",
      "-1\n",
      "Enter right child of  2\n",
      "-1\n",
      "Enter left child of  3\n",
      "-1\n",
      "Enter right child of  3\n",
      "4\n",
      "Enter left child of  4\n",
      "-1\n",
      "Enter right child of  4\n",
      "-1\n",
      "1 :L 2 R 3 \n",
      "2 :NoneNone\n",
      "3 :NoneR 4 \n",
      "4 :NoneNone\n"
     ]
    }
   ],
   "source": [
    "#how to print levelwse\n",
    "def printlevelwise(root):\n",
    "    if root == -1:\n",
    "        return None\n",
    "    p = queue.Queue()\n",
    "    p.put(root)\n",
    "    \n",
    "    while not(p.empty()):\n",
    "        CurrNode = p.get()\n",
    "        print(CurrNode.data,\":\",end=\"\")\n",
    "        leftnode = CurrNode.left\n",
    "        if leftnode is not None :\n",
    "            p.put(leftnode)\n",
    "            print(\"L\",leftnode.data ,end=\" \")\n",
    "        else:\n",
    "            print(\"None\",end=\"\")\n",
    "        \n",
    "        \n",
    "        rightnode = CurrNode.right\n",
    "        if rightnode is not None :\n",
    "            p.put(rightnode)\n",
    "            print(\"R\",rightnode.data ,end=\" \")\n",
    "        else:\n",
    "            print(\"None\",end=\"\")\n",
    "        print()\n",
    "    return\n",
    "root=takeinputlevelwise()\n",
    "printlevelwise(root)"
   ]
  },
  {
   "cell_type": "code",
   "execution_count": 45,
   "metadata": {},
   "outputs": [
    {
     "name": "stdout",
     "output_type": "stream",
     "text": [
      "1 :L 2 R 3 \n",
      "2 :NoneR 5 \n",
      "3 :NoneR 6 \n",
      "5 :NoneNone\n",
      "6 :NoneR 7 \n",
      "7 :NoneNone\n"
     ]
    }
   ],
   "source": [
    "#using inorder and preorder to build the binary tree\n",
    "\n",
    "def buildtreefrominorderandpreorder(inorder ,pre):\n",
    "    if len(pre) == 0:\n",
    "        return None\n",
    "    rootData = pre[0]\n",
    "    root = BinaryTreeNode(rootData)\n",
    "    rootIndexInorder = -1    #iinitalization\n",
    "    for i in range(0 , len(inorder)):\n",
    "        if inorder[i] == rootData:\n",
    "            rootIndexInorder = i\n",
    "            break\n",
    "            \n",
    "    if rootIndexInorder == -1:  #root element not found in preorder\n",
    "        return None\n",
    "        \n",
    "    #finding inorder left and right\n",
    "    leftInorder = pre[0:rootIndexInorder]\n",
    "    rightInorder = pre[rootIndexInorder+1: ]\n",
    "    \n",
    "     \n",
    "    #to find left and right preorder we require length \n",
    "    lenleftInorder = len(leftInorder)\n",
    "    #finding preorder left and right\n",
    "    leftpreorder = pre[1:lenleftInorder+1]\n",
    "    rightpreorder =pre[lenleftInorder+1: ]\n",
    "    \n",
    "    leftChild = buildtreefrominorderandpreorder(leftInorder , leftpreorder)\n",
    "    rightChild = buildtreefrominorderandpreorder(rightInorder , rightpreorder)\n",
    "    \n",
    "    root.left = leftChild\n",
    "    root.right = rightChild\n",
    "    \n",
    "    return root\n",
    "\n",
    "    \n",
    "inorder =[4,2,5,1,6,3,7]\n",
    "preorder=[1,2,4,5,3,6,7]\n",
    "\n",
    "root = buildtreefrominorderandpreorder(inorder , preorder)\n",
    "printlevelwise(root) "
   ]
  },
  {
   "cell_type": "markdown",
   "metadata": {},
   "source": [
    "# BST 1"
   ]
  },
  {
   "cell_type": "code",
   "execution_count": null,
   "metadata": {},
   "outputs": [],
   "source": [
    "BST stands for binary search tree an effective way to search elements faster than in a normal method \n",
    "in normal method we traverse to each element to find the Node and the time complexity comes out to be O(N).\n",
    "(this method can be seen as a liner search)\n",
    "\n",
    "but in bst we create a tree where(left < root < right) and then apply searching . due to which our time complexity comes\n",
    "out to be O(h) [h: height of the tree]\n",
    "if the tree is a balanced tree then h = log(n) approx. \n",
    "if the tree is a normal tree then h = N "
   ]
  },
  {
   "cell_type": "code",
   "execution_count": 1,
   "metadata": {},
   "outputs": [],
   "source": [
    "#creating tree and print function for the upcoming programs\n",
    "import queue\n",
    "class BinaryTreeNode:\n",
    "    def __init__(self,data):\n",
    "        self.data   = data\n",
    "        self.left   = None\n",
    "        self.right  = None\n",
    "        \n",
    "def insertion():\n",
    "    Q = queue.Queue()\n",
    "    print(\"enter the root node\",end=\":\")\n",
    "    root_data = int(input())\n",
    "    if root_data == -1:\n",
    "        return None\n",
    "    root = BinaryTreeNode(root_data)\n",
    "    Q.put(root)\n",
    "    \n",
    "    while not(Q.empty()):\n",
    "        \n",
    "        current_node = Q.get()\n",
    "        print(\"Enter left child of \",current_node.data)\n",
    "        left_child = int(input())\n",
    "        if left_child != -1:\n",
    "            left_node = BinaryTreeNode(left_child)\n",
    "            current_node.left= left_node\n",
    "            Q.put(left_node)\n",
    "            \n",
    "        print(\"enter the right child of \", current_node.data)\n",
    "        right_child = int(input())\n",
    "        if right_child != -1:\n",
    "            right_node = BinaryTreeNode(right_child)\n",
    "            current_node.right= right_node\n",
    "            Q.put(right_node)\n",
    "            \n",
    "    return root\n",
    "\n",
    "def printTreeNode(root):\n",
    "    if root is None :\n",
    "        return None\n",
    "\n",
    "    a = queue.Queue()\n",
    "    a.put(root)\n",
    "    while not(a.empty()):\n",
    "        current_node = a.get()\n",
    "        print(current_node.data , end=\":\")\n",
    "\n",
    "        left_child = current_node.left\n",
    "        if left_child is not None:\n",
    "            print(\"L\" , left_child.data ,end=\" \")\n",
    "            a.put(left_child)\n",
    "\n",
    "        else:\n",
    "            print(\"L\",None ,end=\" \")\n",
    "\n",
    "\n",
    "        right_child = current_node.right\n",
    "        if right_child is not None:\n",
    "            print(\"R\" , right_child.data ,end=\" \")\n",
    "            a.put(right_child)\n",
    "\n",
    "        else:\n",
    "            print(\"R\",None ,end=\" \")\n",
    "\n",
    "        print()\n"
   ]
  },
  {
   "cell_type": "code",
   "execution_count": 6,
   "metadata": {},
   "outputs": [
    {
     "name": "stdout",
     "output_type": "stream",
     "text": [
      "enter the root node:4\n",
      "Enter left child of  4\n",
      "2\n",
      "enter the right child of  4\n",
      "6\n",
      "Enter left child of  2\n",
      "1\n",
      "enter the right child of  2\n",
      "3\n",
      "Enter left child of  6\n",
      "5\n",
      "enter the right child of  6\n",
      "7\n",
      "Enter left child of  1\n",
      "-1\n",
      "enter the right child of  1\n",
      "-1\n",
      "Enter left child of  3\n",
      "-1\n",
      "enter the right child of  3\n",
      "-1\n",
      "Enter left child of  5\n",
      "-1\n",
      "enter the right child of  5\n",
      "-1\n",
      "Enter left child of  7\n",
      "-1\n",
      "enter the right child of  7\n",
      "-1\n",
      "4:L 2 R 6 \n",
      "2:L 1 R 3 \n",
      "6:L 5 R 7 \n",
      "1:L None R None \n",
      "3:L None R None \n",
      "5:L None R None \n",
      "7:L None R None \n",
      "Enter the element to find in the tree ...5\n"
     ]
    },
    {
     "data": {
      "text/plain": [
       "True"
      ]
     },
     "execution_count": 6,
     "metadata": {},
     "output_type": "execute_result"
    }
   ],
   "source": [
    "#searching a node in BST\n",
    "#assuming we are given a BST not a normal tree\n",
    "#given tree:\n",
    "  #   4\n",
    "  #  2 6\n",
    "  #1 3 5 7\n",
    "\n",
    "\n",
    "def search(root,x):\n",
    "    if root == None:\n",
    "        return False\n",
    "    if root.data == x:\n",
    "        return True\n",
    "    elif root.data > x:  #then searching move to the left side\n",
    "        return search(root.left , x)\n",
    "    else:                 #then searching move to the right side\n",
    "        return search(root.right ,x)\n",
    "    \n",
    "root = insertion()\n",
    "printTreeNode(root)\n",
    "x = int(input(\"Enter the element to find in the tree ...\"))\n",
    "search(root,x)"
   ]
  },
  {
   "cell_type": "code",
   "execution_count": 7,
   "metadata": {},
   "outputs": [
    {
     "name": "stdout",
     "output_type": "stream",
     "text": [
      "enter the root node:4\n",
      "Enter left child of  4\n",
      "2\n",
      "enter the right child of  4\n",
      "6\n",
      "Enter left child of  2\n",
      "1\n",
      "enter the right child of  2\n",
      "3\n",
      "Enter left child of  6\n",
      "5\n",
      "enter the right child of  6\n",
      "7\n",
      "Enter left child of  1\n",
      "-1\n",
      "enter the right child of  1\n",
      "-1\n",
      "Enter left child of  3\n",
      "-1\n",
      "enter the right child of  3\n",
      "-1\n",
      "Enter left child of  5\n",
      "-1\n",
      "enter the right child of  5\n",
      "-1\n",
      "Enter left child of  7\n",
      "-1\n",
      "enter the right child of  7\n",
      "-1\n",
      "4:L 2 R 6 \n",
      "2:L 1 R 3 \n",
      "6:L 5 R 7 \n",
      "1:L None R None \n",
      "3:L None R None \n",
      "5:L None R None \n",
      "7:L None R None \n",
      "Enter the k1 value...1\n",
      "Enter the k2 value ...7\n",
      "4\n",
      "2\n",
      "1\n",
      "3\n",
      "6\n",
      "5\n",
      "7\n"
     ]
    }
   ],
   "source": [
    "#printing elements that lies between k1 and k2\n",
    "def rangebtwk1andk2(root,k1,k2):\n",
    "    if root is None:\n",
    "        return \n",
    "    \n",
    "    if root.data < k1 :\n",
    "        rangebtwk1andk2(root.right,k1,k2)\n",
    "    elif root.data > k2:\n",
    "         rangebtwk1andk2(root.left,k1,k2)\n",
    "    else:\n",
    "        print(root.data)\n",
    "        rangebtwk1andk2(root.left,k1,k2)\n",
    "        rangebtwk1andk2(root.right,k1,k2)\n",
    "        \n",
    "root = insertion()\n",
    "printTreeNode(root)\n",
    "k1 = int(input(\"Enter the k1 value...\"))\n",
    "k2 = int(input(\"Enter the k2 value ...\"))\n",
    "rangebtwk1andk2(root,k1,k2)"
   ]
  },
  {
   "cell_type": "code",
   "execution_count": 20,
   "metadata": {},
   "outputs": [
    {
     "name": "stdout",
     "output_type": "stream",
     "text": [
      "4:L 2 R 6 \n",
      "2:L 1 R 3 \n",
      "6:L 5 R 7 \n",
      "1:L None R None \n",
      "3:L None R None \n",
      "5:L None R None \n",
      "7:L None R 8 \n",
      "8:L None R None \n"
     ]
    }
   ],
   "source": [
    "#creating a balanced BST out of an sorted array\n",
    "#we need to send si and ei so that we can know when to stop just like what we do in binarysearch\n",
    "class BSTNode:\n",
    "    def __init__(self,data):\n",
    "        self.left = None\n",
    "        self.right = None\n",
    "        self.data = data\n",
    "\n",
    "def createBST(arr,si,ei):\n",
    "    if si > ei:\n",
    "        return \n",
    "    \n",
    "    mid = (si+ei)//2\n",
    "    root = BSTNode(arr[mid-1])\n",
    "    \n",
    "    left_tree = createBST(arr, si , mid-1)\n",
    "    right_tree = createBST(arr , mid+1 , ei )\n",
    "    \n",
    "    root.left = left_tree\n",
    "    root.right = right_tree\n",
    "    \n",
    "    return root\n",
    "    \n",
    "arr=[1,2,3,4,5,6,7,8]\n",
    "si = arr[0]\n",
    "ei = arr[len(arr)-1]\n",
    "root = createBST(arr,si,ei)\n",
    "printTreeNode(root)"
   ]
  },
  {
   "cell_type": "code",
   "execution_count": 25,
   "metadata": {},
   "outputs": [
    {
     "name": "stdout",
     "output_type": "stream",
     "text": [
      "8\n",
      "4\n",
      "[1, 2, 3]\n",
      "[5, 6, 7, 8]\n"
     ]
    }
   ],
   "source": [
    "arr=[1,2,3,4,5,6,7,8]\n",
    "print(len(arr))\n",
    "mid=len(arr)//2\n",
    "print(mid)\n",
    "\n",
    "#remeber \n",
    "print(arr[:mid-1])\n",
    "\n",
    "print(arr[mid:])"
   ]
  },
  {
   "cell_type": "code",
   "execution_count": 4,
   "metadata": {},
   "outputs": [
    {
     "name": "stdout",
     "output_type": "stream",
     "text": [
      "enter the root node:4\n",
      "Enter left child of  4\n",
      "2\n",
      "enter the right child of  4\n",
      "6\n",
      "Enter left child of  2\n",
      "1\n",
      "enter the right child of  2\n",
      "10\n",
      "Enter left child of  6\n",
      "5\n",
      "enter the right child of  6\n",
      "7\n",
      "Enter left child of  1\n",
      "-1\n",
      "enter the right child of  1\n",
      "-1\n",
      "Enter left child of  10\n",
      "-1\n",
      "enter the right child of  10\n",
      "-1\n",
      "Enter left child of  5\n",
      "-1\n",
      "enter the right child of  5\n",
      "-1\n",
      "Enter left child of  7\n",
      "-1\n",
      "enter the right child of  7\n",
      "-1\n",
      "4:L 2 R 6 \n",
      "2:L 1 R 10 \n",
      "6:L 5 R 7 \n",
      "1:L None R None \n",
      "10:L None R None \n",
      "5:L None R None \n",
      "7:L None R None \n"
     ]
    },
    {
     "data": {
      "text/plain": [
       "False"
      ]
     },
     "execution_count": 4,
     "metadata": {},
     "output_type": "execute_result"
    }
   ],
   "source": [
    "#check if the given binary tree is a BST or not\n",
    "#so we will calculate the max of left subtree and min of right subtree\n",
    "#such that max(left_tree)< rootdata < min(right_tree)\n",
    "\n",
    "#checking for tree  \n",
    "#       4\n",
    "#      2  6\n",
    "#    1 10 5 7\n",
    "#output is False as 10 > 4 in left subtree\n",
    "\n",
    "\n",
    "#time completxity- O(nlogn) if tree is a good(balanced) tree\n",
    "#time complexity -O(n^2) if tree is  a bad(skewed) tree\n",
    "\n",
    "\n",
    "def minTree(root):\n",
    "    if root is None:\n",
    "        return 1000000 #huge postive number ie;+infinity\n",
    "    \n",
    "    left_min = minTree(root.left)\n",
    "    right_min = minTree(root.right)\n",
    "    \n",
    "    return min(left_min, right_min , root.data)\n",
    "\n",
    "\n",
    "def maxTree(root):\n",
    "    if root is None:\n",
    "        return -1000000 #huge postive number ie;+infinity\n",
    "    \n",
    "    left_max = minTree(root.left)\n",
    "    right_max = minTree(root.right)\n",
    "    \n",
    "    return max(left_max, right_max , root.data)\n",
    "\n",
    "def isBST(root):\n",
    "    #base case\n",
    "    if root is None:\n",
    "        return None\n",
    "    \n",
    "    #inuction hypothesis                this complete steps checks only that whether the root ele is correct or not\n",
    "    leftMax = minTree(root.left)\n",
    "    rightMin = maxTree(root.right)\n",
    "    if root.data > rightMin or root.data <= leftMax:\n",
    "        return False\n",
    "    \n",
    "    #recursion                    applying these same steps to the left and right subtree\n",
    "    isLeftBST = isBST(root.left)\n",
    "    isRightBST = isBST(root.right)\n",
    "    \n",
    "    return isLeftBST and isRightBST\n",
    "    \n",
    "root = insertion()\n",
    "printTreeNode(root)\n",
    "isBST(root)"
   ]
  },
  {
   "cell_type": "code",
   "execution_count": 9,
   "metadata": {},
   "outputs": [
    {
     "name": "stdout",
     "output_type": "stream",
     "text": [
      "enter the root node:4\n",
      "Enter left child of  4\n",
      "2\n",
      "enter the right child of  4\n",
      "6\n",
      "Enter left child of  2\n",
      "1\n",
      "enter the right child of  2\n",
      "10\n",
      "Enter left child of  6\n",
      "5\n",
      "enter the right child of  6\n",
      "7\n",
      "Enter left child of  1\n",
      "-1\n",
      "enter the right child of  1\n",
      "-1\n",
      "Enter left child of  10\n",
      "-1\n",
      "enter the right child of  10\n",
      "-1\n",
      "Enter left child of  5\n",
      "-1\n",
      "enter the right child of  5\n",
      "-1\n",
      "Enter left child of  7\n",
      "-1\n",
      "enter the right child of  7\n",
      "-1\n",
      "4:L 2 R 6 \n",
      "2:L 1 R 10 \n",
      "6:L 5 R 7 \n",
      "1:L None R None \n",
      "10:L None R None \n",
      "5:L None R None \n",
      "7:L None R None \n"
     ]
    },
    {
     "data": {
      "text/plain": [
       "(1, 100000, False)"
      ]
     },
     "execution_count": 9,
     "metadata": {},
     "output_type": "execute_result"
    }
   ],
   "source": [
    "#improved version of  checkBST OR NOT \n",
    "\n",
    "#Time complexity for good or bad tree is O(n)\n",
    "\n",
    "\n",
    "def isBST2(root):\n",
    "    #base case\n",
    "    if root is None:\n",
    "        return 100000 , -100000 , True\n",
    "    \n",
    "    leftMin , leftMax , isLeftBST =  isBST2(root.left)\n",
    "    rightMin ,rightMax , isRightBST = isBST2(root.right)\n",
    "    \n",
    "    \n",
    "    minimum = min(leftMin , rightMin , root.data)\n",
    "    maximum = max(leftMax , rightMax , root.data)\n",
    "    isTreeBST = True\n",
    "    \n",
    "    if root.data <= leftMax or root.data > rightMin:\n",
    "        isTreeBST = False\n",
    "\n",
    "    if not (isLeftBST) or not(isRightBST):\n",
    "        isTreeBST = False\n",
    "        \n",
    "    return minimum , maximum , isTreeBST\n",
    "    \n",
    "root = insertion()\n",
    "printTreeNode(root)\n",
    "isBST2(root)"
   ]
  },
  {
   "cell_type": "code",
   "execution_count": 15,
   "metadata": {},
   "outputs": [
    {
     "name": "stdout",
     "output_type": "stream",
     "text": [
      "enter the root node:4\n",
      "Enter left child of  4\n",
      "2\n",
      "enter the right child of  4\n",
      "6\n",
      "Enter left child of  2\n",
      "1\n",
      "enter the right child of  2\n",
      "30\n",
      "Enter left child of  6\n",
      "5\n",
      "enter the right child of  6\n",
      "7\n",
      "Enter left child of  1\n",
      "-1\n",
      "enter the right child of  1\n",
      "-1\n",
      "Enter left child of  30\n",
      "-1\n",
      "enter the right child of  30\n",
      "-1\n",
      "Enter left child of  5\n",
      "-1\n",
      "enter the right child of  5\n",
      "-1\n",
      "Enter left child of  7\n",
      "-1\n",
      "enter the right child of  7\n",
      "-1\n",
      "4:L 2 R 6 \n",
      "2:L 1 R 30 \n",
      "6:L 5 R 7 \n",
      "1:L None R None \n",
      "30:L None R None \n",
      "5:L None R None \n",
      "7:L None R None \n"
     ]
    },
    {
     "data": {
      "text/plain": [
       "False"
      ]
     },
     "execution_count": 15,
     "metadata": {},
     "output_type": "execute_result"
    }
   ],
   "source": [
    "#another method for ischeckBST \n",
    "#Time complexity for good or bad tree is O(n)\n",
    "\n",
    "def isBST3(root , min_range , max_range):\n",
    "    if root is None:\n",
    "        return True\n",
    "    \n",
    "    if root.data < min_range or root.data > max_range :\n",
    "        return False\n",
    "    \n",
    "    isLeftWithinConstraints = isBST3(root.left, min_range , root.data-1)\n",
    "    isRightWithinConstraints = isBST3(root.right , root.data , max_range)\n",
    "    \n",
    "    return isLeftWithinConstraints and isRightWithinConstraints\n",
    "\n",
    "root = insertion()\n",
    "printTreeNode(root)\n",
    "isBST3(root,-100000 , 1000000)"
   ]
  },
  {
   "cell_type": "markdown",
   "metadata": {},
   "source": [
    "# BST 2"
   ]
  },
  {
   "cell_type": "code",
   "execution_count": 4,
   "metadata": {},
   "outputs": [
    {
     "name": "stdout",
     "output_type": "stream",
     "text": [
      "enter the root node:1\n",
      "Enter left child of  1\n",
      "2\n",
      "enter the right child of  1\n",
      "3\n",
      "Enter left child of  2\n",
      "-1\n",
      "enter the right child of  2\n",
      "-1\n",
      "Enter left child of  3\n",
      "4\n",
      "enter the right child of  3\n",
      "6\n",
      "Enter left child of  4\n",
      "-1\n",
      "enter the right child of  4\n",
      "-1\n",
      "Enter left child of  6\n",
      "5\n",
      "enter the right child of  6\n",
      "9\n",
      "Enter left child of  5\n",
      "7\n",
      "enter the right child of  5\n",
      "8\n",
      "Enter left child of  9\n",
      "-1\n",
      "enter the right child of  9\n",
      "-1\n",
      "Enter left child of  7\n",
      "-1\n",
      "enter the right child of  7\n",
      "-1\n",
      "Enter left child of  8\n",
      "-1\n",
      "enter the right child of  8\n",
      "-1\n",
      "1:L 2 R 3 \n",
      "2:L None R None \n",
      "3:L 4 R 6 \n",
      "4:L None R None \n",
      "6:L 5 R 9 \n",
      "5:L 7 R 8 \n",
      "9:L None R None \n",
      "7:L None R None \n",
      "8:L None R None \n",
      "Enter the value to search for ... 5\n"
     ]
    },
    {
     "data": {
      "text/plain": [
       "[5, 6, 3, 1]"
      ]
     },
     "execution_count": 4,
     "metadata": {},
     "output_type": "execute_result"
    }
   ],
   "source": [
    "#root to node path in binary tree\n",
    "\n",
    "#binary tree\n",
    "#      1\n",
    "#    2    3\n",
    "#       4    6 \n",
    "#          5   9\n",
    "#        7  8\n",
    "\n",
    "\n",
    "#element to search for is 5 \n",
    "#output = [5 , 6, 3, 1]\n",
    "def nodetorootpath(root,s):\n",
    "    if root is None:\n",
    "        return None\n",
    "    \n",
    "    if root.data == s:\n",
    "        l = list()\n",
    "        l.append(root.data)\n",
    "        return l\n",
    "    \n",
    "    leftoutput = nodetorootpath(root.left ,s)\n",
    "    if leftoutput !=None:\n",
    "        leftoutput.append(root.data)\n",
    "        return leftoutput\n",
    "    \n",
    "    rightoutput = nodetorootpath(root.right,s)\n",
    "    if rightoutput !=None:\n",
    "        rightoutput.append(root.data)\n",
    "        return rightoutput\n",
    "    \n",
    "    else:\n",
    "        return None\n",
    "    \n",
    "root = insertion()\n",
    "printTreeNode(root)\n",
    "s = int(input(\"Enter the value to search for ... \"))\n",
    "nodetorootpath(root,s)"
   ]
  },
  {
   "cell_type": "markdown",
   "metadata": {},
   "source": [
    "# STRUCTURE OF BST"
   ]
  },
  {
   "cell_type": "code",
   "execution_count": null,
   "metadata": {},
   "outputs": [],
   "source": [
    "idea is that we will be creating a class called bst where the user doesn't have to worry about how the data is being or \n",
    "how the connections are being made... \n",
    "functionalites:\n",
    "    1 insert()\n",
    "    2 delete()\n",
    "    3 ispresent(ele) or search(ele)\n",
    "    4 count()\n",
    "    5 printtree()"
   ]
  },
  {
   "cell_type": "code",
   "execution_count": 27,
   "metadata": {},
   "outputs": [],
   "source": [
    "class BinaryTreeNode:\n",
    "    def __init__(self, data):\n",
    "        self.data = data\n",
    "        self.left = None\n",
    "        self.right = None\n",
    "\n",
    "class BST:\n",
    "    \n",
    "    def __init__(self):\n",
    "        self.root = None\n",
    "        self.numCount = 0\n",
    "        \n",
    "# ****************************************************       \n",
    "    #helper function of ispresent()\n",
    "    #the code is to print the tree in inorder format root left right \n",
    "    #if we want to print in level order we donot requeire  helper function because we won't us recursion in that\n",
    "    def printTree_helper(self,root):\n",
    "        if root is None:\n",
    "            return None\n",
    "        print(root.data ,end=\":\")\n",
    "        \n",
    "        if root.left is not None:\n",
    "            print(\"L\" , root.left.data , end=\" \")\n",
    "            \n",
    "        if root.right is not None:\n",
    "            print(\"R\" , root.right.data , end=\" \")\n",
    "            \n",
    "        print()\n",
    "        \n",
    "        self.printTree_helper(root.left)\n",
    "        self.printTree_helper(root.right)\n",
    "    \n",
    "    #prints the tree\n",
    "    def printTree(self):\n",
    "        self.printTree_helper(self.root)\n",
    "        \n",
    "# *****************************************************************\n",
    "    #Time complexity( O(h))\n",
    "    #helper function of ispresent()\n",
    "    def isPresent_helper(self,root,data):\n",
    "        if root == None:\n",
    "            return False\n",
    "        if root.data == data:\n",
    "            return True\n",
    "        if root.data > data :\n",
    "            return self.isPresent_helper(root.left , data)\n",
    "        \n",
    "        if root.data < data :\n",
    "            return self.isPresent_helper(root.right , data)\n",
    "        \n",
    "    #returns whether the ele(data) is present in the node or not\n",
    "    def isPresent(self,data):\n",
    "        return self.isPresent_helper(self.root , data)\n",
    "        \n",
    "#******************************************************************\n",
    "    #Time Complexity O(h)\n",
    "    def insert_helper(self,root,data):\n",
    "        if root is None:\n",
    "            node = BinaryTreeNode(data)\n",
    "            return node\n",
    "        if root.data > data:\n",
    "            root.left = self.insert_helper(root.left , data)\n",
    "            return root\n",
    "        else:\n",
    "            root.right = self.insert_helper(root.right , data)\n",
    "            return root\n",
    "        \n",
    "    def insert(self,data):\n",
    "        self.numCount += 1 \n",
    "        self.root = self.insert_helper(self.root,data) \n",
    "        \n",
    "#*********************************************************************\n",
    "    #TIME COMPLEXITY - FOR ROOT IS LEAF = O(h)\n",
    "    #TIME COMPLEXITY - FOR ROOT has 1 child = O(h)\n",
    "    #TIME COMPLEXITY - FOR ROOT has 2 child = O(h) [\n",
    " #                                                   1.find the node= K \n",
    " #                                                   2. mimium of the right side= h-K \n",
    " #                                                   3. delete m from the right side = h-K]\n",
    "\n",
    "    def minimum(self , root):\n",
    "        if root is None:\n",
    "            return 10000\n",
    "        if root.left is None:\n",
    "            return root.data\n",
    "        return self.minimum(root.left)\n",
    "    \n",
    "    def deleteData_helper(self,root , data):\n",
    "        if root is None:\n",
    "            return False , None\n",
    "        \n",
    "        if root.data < data:\n",
    "            deleted , newright  = self.deleteData_helper(root.right , data)\n",
    "            root.right = newright\n",
    "            return deleted , root\n",
    "        \n",
    "        if root.data > data :\n",
    "            deleted , newleft = self.deleteData_helper(root.left , data)\n",
    "            root.left = newleft\n",
    "            return deleted , root\n",
    "        \n",
    "        #if root.data == data \n",
    "        #case - root is leaft\n",
    "        if root.left is None and root.right is None:\n",
    "            return  True , None\n",
    "        \n",
    "        #case- root has 1 child\n",
    "        if root.left is None :\n",
    "            return  True , root.right\n",
    "        \n",
    "        if root.right is None :\n",
    "            return True ,  root.left \n",
    "        \n",
    "        #case - root has 2 child\n",
    "        else:\n",
    "            m = self.minimum(root.right)\n",
    "            root.data = m\n",
    "            deleted , newright= self.deleteData_helper(root.right , m)\n",
    "            root.right = newright\n",
    "            return True , root\n",
    "            \n",
    "            \n",
    "    def deleteData(self,data):\n",
    "        deleted , newroot = self.deleteData_helper(self.root , data)\n",
    "        if deleted :\n",
    "            self.numCount -= 1\n",
    "        self.root = newroot\n",
    "        return deleted \n",
    "    \n",
    "#**************************************************************************\n",
    "    def count(self):\n",
    "        return self.numCount"
   ]
  },
  {
   "cell_type": "code",
   "execution_count": 30,
   "metadata": {},
   "outputs": [
    {
     "name": "stdout",
     "output_type": "stream",
     "text": [
      "*******************\n",
      "10:L 5 R 12 \n",
      "5:R 7 \n",
      "7:L 6 R 8 \n",
      "6:\n",
      "8:\n",
      "12:L 11 R 15 \n",
      "11:\n",
      "15:\n",
      "*******************\n",
      "8\n",
      "*******************\n",
      "True\n",
      "True\n",
      "False\n",
      "*******************\n",
      "True\n",
      "*******************\n",
      "7\n",
      "*******************\n",
      "11:L 5 R 12 \n",
      "5:R 7 \n",
      "7:L 6 R 8 \n",
      "6:\n",
      "8:\n",
      "12:R 15 \n",
      "15:\n"
     ]
    }
   ],
   "source": [
    "b = BST()\n",
    "b.insert(10)\n",
    "b.insert(5)\n",
    "b.insert(7)\n",
    "b.insert(6)\n",
    "b.insert(8)\n",
    "b.insert(12)\n",
    "b.insert(11)\n",
    "b.insert(15)\n",
    "print(\"*******************\")\n",
    "b.printTree()\n",
    "print(\"*******************\")\n",
    "print(b.count())\n",
    "print(\"*******************\")\n",
    "print(b.isPresent(10))\n",
    "print(b.isPresent(7))\n",
    "print(b.isPresent(4))\n",
    "print(\"*******************\")\n",
    "print(b.deleteData(10))\n",
    "print(\"*******************\")\n",
    "print(b.count())\n",
    "print(\"*******************\")\n",
    "b.printTree()"
   ]
  },
  {
   "cell_type": "code",
   "execution_count": null,
   "metadata": {},
   "outputs": [],
   "source": [
    "it is important that the bst we create must be a balanced tree i.e our height must be of around log(n)\n",
    "so the code we have written doesn't much mangaged to be a balanced \n",
    "we can read about these balaced binary trees\n",
    "1. AVL TREES (important)\n",
    "2. RED BLACK TREES\n"
   ]
  },
  {
   "cell_type": "code",
   "execution_count": null,
   "metadata": {},
   "outputs": [],
   "source": [
    "AVL tree checks the height of the left and the right sub-trees and assures that the difference is not more than 1.\n",
    "This difference is called the Balance Factor.\n",
    "\n",
    "To balance itself, an AVL tree may perform the following four kinds of rotations −\n",
    "\n",
    "    Left rotation\n",
    "    Right rotation\n",
    "    Left-Right rotation\n",
    "    Right-Left rotation\n",
    "\n",
    "The first two rotations are single rotations and the next two rotations are double rotations.\n",
    "To have an unbalanced tree, we at least need a tree of height 2."
   ]
  }
 ],
 "metadata": {
  "kernelspec": {
   "display_name": "Python 3",
   "language": "python",
   "name": "python3"
  },
  "language_info": {
   "codemirror_mode": {
    "name": "ipython",
    "version": 3
   },
   "file_extension": ".py",
   "mimetype": "text/x-python",
   "name": "python",
   "nbconvert_exporter": "python",
   "pygments_lexer": "ipython3",
   "version": "3.8.3"
  }
 },
 "nbformat": 4,
 "nbformat_minor": 4
}
