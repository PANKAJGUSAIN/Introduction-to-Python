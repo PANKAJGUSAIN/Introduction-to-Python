{
 "cells": [
  {
   "cell_type": "markdown",
   "metadata": {},
   "source": [
    "# BASICS"
   ]
  },
  {
   "cell_type": "code",
   "execution_count": 1,
   "metadata": {},
   "outputs": [
    {
     "name": "stdout",
     "output_type": "stream",
     "text": [
      "140719153756224\n",
      "140719153756224\n"
     ]
    }
   ],
   "source": [
    "#this is called optimization as a and b has the same unique id that is pointing to the same place.\n",
    "#[valid only from -4 to 256]\n",
    "a=10\n",
    "b=10\n",
    "print(id(a))\n",
    "print(id(b))"
   ]
  },
  {
   "cell_type": "code",
   "execution_count": 3,
   "metadata": {},
   "outputs": [
    {
     "name": "stdout",
     "output_type": "stream",
     "text": [
      "140719124068416\n",
      "140719124068448\n"
     ]
    }
   ],
   "source": [
    "#variables are immutables\n",
    "a=10                                    \n",
    "print(id(a))\n",
    "a=11\n",
    "print(id(a))"
   ]
  },
  {
   "cell_type": "code",
   "execution_count": 2,
   "metadata": {},
   "outputs": [
    {
     "name": "stdout",
     "output_type": "stream",
     "text": [
      "Enter an integer value10\n",
      "55\n"
     ]
    }
   ],
   "source": [
    "#to print the sum of n numbers using while loop\n",
    "\n",
    "n= int(input(\"Enter an integer value\"))\n",
    "summ = 0\n",
    "while (n > 0) :\n",
    "    summ = summ + n\n",
    "    n = n-1 \n",
    "print(summ)"
   ]
  },
  {
   "cell_type": "code",
   "execution_count": 4,
   "metadata": {},
   "outputs": [
    {
     "name": "stdout",
     "output_type": "stream",
     "text": [
      "Enter a value1\n",
      "please continue the process\n",
      "Enter a value0\n",
      "please continue the process\n",
      "Enter a value32\n",
      "choose from 012346789\n",
      "Enter a value-1\n",
      "about to exit\n"
     ]
    }
   ],
   "source": [
    "#how to take n times imput from user.. and when user enters -1 then the code exits\n",
    "\n",
    "flag =True\n",
    "while flag != False :\n",
    "    i=input(\"Enter a value\")\n",
    "    if i in '1234567890':\n",
    "        print(\"please continue the process\");\n",
    "        #if we use break here it will take us out of the loop which we donot want\n",
    "    elif i== '-1':\n",
    "        print(\"about to exit\")\n",
    "        flag = False\n",
    "    else:\n",
    "        print(\"choose from 012346789\")"
   ]
  },
  {
   "cell_type": "code",
   "execution_count": 38,
   "metadata": {},
   "outputs": [
    {
     "name": "stdout",
     "output_type": "stream",
     "text": [
      "12345\n",
      "54321\n"
     ]
    }
   ],
   "source": [
    "#to reverse a number\n",
    "def reverse(n):\n",
    "    rev = 0\n",
    "    while n > 0:\n",
    "        temp = n%10\n",
    "        rev = rev*10 + temp\n",
    "        n=n//10\n",
    "    return rev\n",
    "\n",
    "n=int(input())\n",
    "print(reverse(n))"
   ]
  },
  {
   "cell_type": "code",
   "execution_count": 26,
   "metadata": {},
   "outputs": [
    {
     "name": "stdout",
     "output_type": "stream",
     "text": [
      "12321\n",
      "its a palindrome\n"
     ]
    }
   ],
   "source": [
    "# palindrome checking - means 121 =121 or not\n",
    "\n",
    "def reverse(n):\n",
    "    rev = 0\n",
    "    while n > 0:\n",
    "        temp = n%10\n",
    "        rev = rev*10 + temp\n",
    "        n=n//10\n",
    "    return rev\n",
    "\n",
    "n=int(input())2\n",
    "c= reverse(n)\n",
    "if n == c:\n",
    "    print(\"its a palindrome\")\n",
    "else:\n",
    "    print(\"its not a palindrome\")"
   ]
  },
  {
   "cell_type": "code",
   "execution_count": 37,
   "metadata": {},
   "outputs": [
    {
     "name": "stdout",
     "output_type": "stream",
     "text": [
      "8\n",
      "1 1 2 3 5 8 13 21 "
     ]
    }
   ],
   "source": [
    "#print fibonacci series 1 1 2 3 5 8 ... \n",
    "n=int(input())\n",
    "f1=1\n",
    "f2=1\n",
    "iterator = 2\n",
    "print(f1,end=\" \")\n",
    "print(f2,end=\" \")\n",
    "while iterator < n :\n",
    "    sum=0\n",
    "    sum = f1 + f2\n",
    "    f2 = f1\n",
    "    f1 = sum \n",
    "    print(sum,end=\" \")\n",
    "    iterator = iterator +1"
   ]
  },
  {
   "cell_type": "code",
   "execution_count": 47,
   "metadata": {},
   "outputs": [
    {
     "name": "stdout",
     "output_type": "stream",
     "text": [
      "65\n",
      "A\n"
     ]
    }
   ],
   "source": [
    "#Type casting\n",
    "\n",
    "#ord() function return the unicode of characteer\n",
    "#chr() function return the string of that unicode \n",
    "s=chr(ord('A'))\n",
    "print(ord('A'))\n",
    "print(chr(ord(s)))"
   ]
  },
  {
   "cell_type": "code",
   "execution_count": 52,
   "metadata": {},
   "outputs": [
    {
     "name": "stdout",
     "output_type": "stream",
     "text": [
      "0xa\n",
      "0xc\n"
     ]
    }
   ],
   "source": [
    "# int to hexadeximal \n",
    "#here '0x' remains same just the end character changes\n",
    "#if we tries to do it using decimal instead of an integer,it will show an error\n",
    "n=10\n",
    "print(hex(n))\n",
    "print(hex(n+2))"
   ]
  },
  {
   "cell_type": "code",
   "execution_count": 54,
   "metadata": {},
   "outputs": [
    {
     "name": "stdout",
     "output_type": "stream",
     "text": [
      "0o12\n",
      "0o14\n"
     ]
    }
   ],
   "source": [
    "# int to octal\n",
    "#here '0o' remains same just the end character changes\n",
    "#if we tries to do it using decimal instead of an integer ,it will show an error\n",
    "n=10\n",
    "print(oct(n))\n",
    "print(oct(n+2))"
   ]
  },
  {
   "cell_type": "code",
   "execution_count": 64,
   "metadata": {},
   "outputs": [
    {
     "name": "stdout",
     "output_type": "stream",
     "text": [
      "3\n",
      "n is a prime number\n"
     ]
    }
   ],
   "source": [
    "#checking prime number\n",
    "#in for loop else part  it will only be executed  if the for loop\n",
    "# has run all the way through without breaking\n",
    "def prime(n):\n",
    "    if(n ==1 or n ==2 ):\n",
    "        print(\"n is prime\")\n",
    "        return\n",
    "    else:\n",
    "        s=n-1\n",
    "        while s > 1:\n",
    "            if (n % s == 0):\n",
    "                print(\"not a prime\")\n",
    "                print(\"it is a multiple of\",s)\n",
    "                return\n",
    "            s=s-1\n",
    "        else:\n",
    "            print('n is a prime number')\n",
    "            \n",
    "n= int(input())\n",
    "prime(n)"
   ]
  },
  {
   "cell_type": "markdown",
   "metadata": {},
   "source": [
    "# FUNCTIONS"
   ]
  },
  {
   "cell_type": "code",
   "execution_count": 9,
   "metadata": {},
   "outputs": [
    {
     "name": "stdout",
     "output_type": "stream",
     "text": [
      "global id => 140719034742912\n",
      "global a => 12\n",
      "global id => 140719034742848\n",
      "global a => 10\n"
     ]
    }
   ],
   "source": [
    "#scope of a variable - local and global\n",
    "def func(a):\n",
    "    a=12  #local variable \n",
    "    print(\"global id =>\" ,id(a))\n",
    "    print(\"global a =>\",a)\n",
    "\n",
    "a=10   #global variable           here both the a's (local and global) have different memorgy id\n",
    "func(a)\n",
    "print(\"global id =>\" ,id(a))\n",
    "print(\"global a =>\",a)"
   ]
  },
  {
   "cell_type": "code",
   "execution_count": 29,
   "metadata": {},
   "outputs": [
    {
     "name": "stdout",
     "output_type": "stream",
     "text": [
      "global id => 140719034742976\n",
      "global a => 14\n",
      "global id => 140719034742976\n",
      "global a => 14\n"
     ]
    }
   ],
   "source": [
    "#in order to use global variable memory location inside the function  instead of creating a local variable\n",
    "#REMEMBER  The first is a syntax scan in which it tests to see if your program is syntactically correct according \n",
    "#to Python's rules. One of these rules is that, for a given block of code with its own scope, you can't have\n",
    "#variables that are both in the local namespace and the global namespace.\n",
    "\n",
    "a=10   #global variable should be defined before calling \n",
    "\n",
    "def func(p):  #here we cannot name the parameter as 'a' because a is alreay specified as global\n",
    "    global a\n",
    "    a=14\n",
    "    print(\"global id =>\" ,id(a))\n",
    "    print(\"global a =>\",a)\n",
    "    \n",
    "func(a)\n",
    "#here both the a's (local and global) have different memorgy id\n",
    "print(\"global id =>\" ,id(a))\n",
    "print(\"global a =>\",a)"
   ]
  },
  {
   "cell_type": "code",
   "execution_count": 28,
   "metadata": {},
   "outputs": [
    {
     "name": "stdout",
     "output_type": "stream",
     "text": [
      "1\n"
     ]
    }
   ],
   "source": [
    "c = 1 # global variable\n",
    "#also we can use global variable without even passing them to the function\n",
    "add()\n",
    "def add():\n",
    "    print(c)"
   ]
  },
  {
   "cell_type": "code",
   "execution_count": 27,
   "metadata": {},
   "outputs": [
    {
     "name": "stdout",
     "output_type": "stream",
     "text": [
      "1634\n",
      "digits: 4\n",
      "4\n",
      "sum 256\n",
      "3\n",
      "sum 337\n",
      "6\n",
      "sum 1633\n",
      "1\n",
      "sum 1634\n",
      "True\n"
     ]
    }
   ],
   "source": [
    "#An Armstrong number is a number (with digits n) such that the sum of its digits raised \n",
    "#to nth power is equal to the number itself.\n",
    "#For example,\n",
    "#371, as 3^3 + 7^3 + 1^3 = 371\n",
    "#1634, as 1^4 + 6^4 + 3^4 + 4^4 = 1634\n",
    "\n",
    "def armstrong(n):\n",
    "    original=n\n",
    "    c=count(n)\n",
    "    sum=0\n",
    "    for i in range(c):\n",
    "        sum =sum +((n%10)**c)\n",
    "        print(n%10)\n",
    "        print(\"sum\",sum)\n",
    "        n=n//10\n",
    "    if(sum == original):\n",
    "        print(True)\n",
    "        return\n",
    "    else:\n",
    "        print(False)\n",
    "        return\n",
    "    \n",
    "def count(n):\n",
    "    count=0\n",
    "    while(n>0):\n",
    "        n=n//10\n",
    "        count=count+1\n",
    "    print(\"digits:\",count)\n",
    "    return count\n",
    "\n",
    "    \n",
    "n=int(input())\n",
    "armstrong(n)"
   ]
  },
  {
   "cell_type": "markdown",
   "metadata": {},
   "source": [
    "# Lists"
   ]
  },
  {
   "cell_type": "code",
   "execution_count": 28,
   "metadata": {},
   "outputs": [
    {
     "data": {
      "text/plain": [
       "[1, 2, 3, 'john']"
      ]
     },
     "execution_count": 28,
     "metadata": {},
     "output_type": "execute_result"
    }
   ],
   "source": [
    "li=[1,2,3,\"john\"]\n",
    "li"
   ]
  },
  {
   "cell_type": "code",
   "execution_count": 58,
   "metadata": {},
   "outputs": [
    {
     "name": "stdout",
     "output_type": "stream",
     "text": [
      "4\n"
     ]
    }
   ],
   "source": [
    "#how to calculate length of a list\n",
    "li=[1,2,3,\"john\"]\n",
    "print(len(li))"
   ]
  },
  {
   "cell_type": "code",
   "execution_count": 4,
   "metadata": {},
   "outputs": [
    {
     "data": {
      "text/plain": [
       "15"
      ]
     },
     "execution_count": 4,
     "metadata": {},
     "output_type": "execute_result"
    }
   ],
   "source": [
    "#how to calculate sum of a list\n",
    "li=[1,2,3,4,5]\n",
    "sum(li)"
   ]
  },
  {
   "cell_type": "code",
   "execution_count": 54,
   "metadata": {},
   "outputs": [
    {
     "data": {
      "text/plain": [
       "1"
      ]
     },
     "execution_count": 54,
     "metadata": {},
     "output_type": "execute_result"
    }
   ],
   "source": [
    "#how to index of a ele in the list\n",
    "li=[1,2,3,4]\n",
    "li.index(2)"
   ]
  },
  {
   "cell_type": "code",
   "execution_count": 38,
   "metadata": {},
   "outputs": [
    {
     "name": "stdout",
     "output_type": "stream",
     "text": [
      "[1, 2, 3, 4, 5]\n",
      "[2, 3, 4, 5]\n",
      "[1, 2]\n",
      "[2, 4]\n",
      "[2, 3]\n",
      "[5]\n",
      "[1, 2, 3, 4]\n",
      "[5, 4, 3, 2, 1]\n"
     ]
    }
   ],
   "source": [
    "#slicing\n",
    "li=[1,2,3,4,5]\n",
    "\n",
    "print(li[:])     # a copy of the compelete list\n",
    "print(li[1:9])   # lst [start:end] Items from index=start to index=end-1 it wont show error even if index 9 doesn't exist\n",
    "print(li[0:2])   # index=0 is included but the index=2 is not included\n",
    "print(li[1:4:2]) # lst [start:end:step] Items from index=start to index=end-1 with a step\n",
    "print(li[1:-2])  # negative indexing\n",
    "print(li[-1:])\n",
    "print(li[:-1])  \n",
    "print(li[::-1])  # reverse the complete list"
   ]
  },
  {
   "cell_type": "code",
   "execution_count": 46,
   "metadata": {},
   "outputs": [
    {
     "name": "stdout",
     "output_type": "stream",
     "text": [
      "[1, 2, 3, 5, 6, 7, 'pankaj']\n",
      "[1, 2, 'OO', 3, 5, 6, 7, 'pankaj']\n",
      "[1, 2, 'OO', 3, 5, 6, 7, 'pankaj', 1]\n"
     ]
    }
   ],
   "source": [
    "#difference between insert and append\n",
    "li=[1,2,3,5,6,7]\n",
    "li.append(\"pankaj\")    #this appends in the end of the list\n",
    "print(li)\n",
    "\n",
    "li.insert(2,\"OO\")     #this inserts at a given position\n",
    "print(li)\n",
    "\n",
    "li.insert(9,1)       #here the index 9 doesn't exist so it will place it in the end \n",
    "print(li)"
   ]
  },
  {
   "cell_type": "code",
   "execution_count": 49,
   "metadata": {},
   "outputs": [
    {
     "name": "stdout",
     "output_type": "stream",
     "text": [
      "[1, 2, 3, 5, 6, 7, [7, 12, 42]]\n",
      "[1, 2, [0, 0, 0], 3, 5, 6, 7, [7, 12, 42]]\n",
      "[1, 2, [0, 0, 0], 3, 5, 6, 7, [7, 12, 42], 98, 100, 29192]\n"
     ]
    }
   ],
   "source": [
    "#list inside list\n",
    "li=[1,2,3,5,6,7]\n",
    "li.append([7,12,42])    #this appends in the end of the list\n",
    "print(li)\n",
    "\n",
    "li.insert(2,[0,0,0])    #this appends in the end of the list\n",
    "print(li)\n",
    "\n",
    "li.extend([98,100,29192]) #extend keyword doesnot creates a new list it will just add those element in the li\n",
    "print(li)"
   ]
  },
  {
   "cell_type": "code",
   "execution_count": 56,
   "metadata": {},
   "outputs": [
    {
     "name": "stdout",
     "output_type": "stream",
     "text": [
      "[1, 2, 3, 6, 5, 7]\n",
      "[1, 3, 6, 5, 7]\n"
     ]
    },
    {
     "ename": "IndexError",
     "evalue": "pop index out of range",
     "output_type": "error",
     "traceback": [
      "\u001b[1;31m---------------------------------------------------------------------------\u001b[0m",
      "\u001b[1;31mIndexError\u001b[0m                                Traceback (most recent call last)",
      "\u001b[1;32m<ipython-input-56-9618f0fa2003>\u001b[0m in \u001b[0;36m<module>\u001b[1;34m\u001b[0m\n\u001b[0;32m      7\u001b[0m \u001b[0mprint\u001b[0m\u001b[1;33m(\u001b[0m\u001b[0mli\u001b[0m\u001b[1;33m)\u001b[0m\u001b[1;33m\u001b[0m\u001b[1;33m\u001b[0m\u001b[0m\n\u001b[0;32m      8\u001b[0m \u001b[1;33m\u001b[0m\u001b[0m\n\u001b[1;32m----> 9\u001b[1;33m \u001b[0mli\u001b[0m\u001b[1;33m.\u001b[0m\u001b[0mpop\u001b[0m\u001b[1;33m(\u001b[0m\u001b[1;36m7\u001b[0m\u001b[1;33m)\u001b[0m       \u001b[1;31m#if we tries to remove the element from  the index number which doesnot occur it will show error\u001b[0m\u001b[1;33m\u001b[0m\u001b[1;33m\u001b[0m\u001b[0m\n\u001b[0m\u001b[0;32m     10\u001b[0m \u001b[0mprint\u001b[0m\u001b[1;33m(\u001b[0m\u001b[0mli\u001b[0m\u001b[1;33m)\u001b[0m\u001b[1;33m\u001b[0m\u001b[1;33m\u001b[0m\u001b[0m\n",
      "\u001b[1;31mIndexError\u001b[0m: pop index out of range"
     ]
    }
   ],
   "source": [
    "#removing elements from the list\n",
    "li=[1,2,3,5,6,5,7]\n",
    "li.remove(5)    #it remove the element from the given list\n",
    "print(li)       #if multiple same elemets are encountered the it will remove the element encountered first\n",
    "\n",
    "li.pop(1)       #it removes the element through the index number\n",
    "print(li)\n",
    "\n",
    "li.pop(7)       #if we tries to remove the element from  the index number which doesnot occur it will show error\n",
    "print(li)\n"
   ]
  },
  {
   "cell_type": "code",
   "execution_count": 12,
   "metadata": {},
   "outputs": [
    {
     "name": "stdout",
     "output_type": "stream",
     "text": [
      "1\n",
      "2\n",
      "3\n",
      "5\n",
      "6\n",
      "5\n",
      "7\n",
      "^^^^^^^\n",
      "1\n",
      "2\n",
      "3\n",
      "5\n",
      "6\n",
      "5\n",
      "7\n",
      "1#2#3#5#6#5#7#"
     ]
    }
   ],
   "source": [
    "#printing of list using index\n",
    "li=[1,2,3,5,6,5,7]\n",
    "for ele in range(len(li)):\n",
    "    print(li[ele])\n",
    "print(\"^^^^^^^\")\n",
    "for ele in range(len(li)):\n",
    "    print(li[ele],end=\"\")\n",
    "    print()\n",
    "for ele in range(len(li)):\n",
    "    print(li[ele],end=\"#\") "
   ]
  },
  {
   "cell_type": "code",
   "execution_count": 16,
   "metadata": {},
   "outputs": [
    {
     "name": "stdout",
     "output_type": "stream",
     "text": [
      "1\n",
      "2\n",
      "3\n",
      "5\n",
      "6\n",
      "5\n",
      "7\n",
      "^^^^^^^^^^^\n",
      "3\n",
      "5\n",
      "6\n",
      "5\n",
      "7\n"
     ]
    }
   ],
   "source": [
    "#printing of list without index\n",
    "li=[1,2,3,5,6,5,7]\n",
    "for ele in li:\n",
    "    print(ele)\n",
    "print(\"^^^^^^^^^^^\")\n",
    "#at particular indexing\n",
    "for ele in li[2:]:\n",
    "    print(ele)"
   ]
  },
  {
   "cell_type": "code",
   "execution_count": 18,
   "metadata": {},
   "outputs": [
    {
     "name": "stdout",
     "output_type": "stream",
     "text": [
      "enter the number of values4\n",
      "Enter value for list :12\n",
      "Enter value for list :14\n",
      "Enter value for list :15\n",
      "Enter value for list :16\n",
      "[12, 14, 15, 16]\n"
     ]
    }
   ],
   "source": [
    "#taking input in list can be of two types\n",
    "#1. line seperated input\n",
    "#2. space seperated input\n",
    "\n",
    "#1. line seperated input\n",
    "n=int(input(\"enter the number of values\"))\n",
    "li=[]\n",
    "for i in range(0,n,1):\n",
    "    c=int(input(\"Enter value for list :\"))\n",
    "    li.append(c)\n",
    "print(li)"
   ]
  },
  {
   "cell_type": "code",
   "execution_count": 25,
   "metadata": {},
   "outputs": [
    {
     "name": "stdout",
     "output_type": "stream",
     "text": [
      "enter the number of values4\n",
      "Enter the values12,13,14,15\n",
      "[12, 13, 14, 15]\n",
      "enter the number of values4\n",
      "Enter the values12 13 14 15\n",
      "[12, 13, 14, 15]\n",
      "12 14 15 16 17\n",
      "[12, 14, 15, 16, 17]\n"
     ]
    }
   ],
   "source": [
    "#2. space seperated input\n",
    "#split() makes us able to take input with spaces otherwise we would have taken space as a value\n",
    "n=int(input(\"enter the number of values\"))\n",
    "s=input(\"Enter the values\")\n",
    "li=[]\n",
    "string_Split = s.split(',') #this split can work in differnt ways to split it can be space , anything\n",
    "for ele in string_Split:\n",
    "    li.append(int(ele))\n",
    "print(li)\n",
    "\n",
    "\n",
    "n=int(input(\"enter the number of values\"))\n",
    "s=input(\"Enter the values\")\n",
    "li=[]\n",
    "string_Split = s.split(' ') # or s.split()       here using space seperated instead of comma(,)\n",
    "for ele in string_Split:\n",
    "    li.append(int(ele))\n",
    "print(li)\n",
    "\n",
    "\n",
    "#another way of taking space seperated input from user is through list comprehension\n",
    "li=[int(ele) for ele in input().split()]\n",
    "print(li)"
   ]
  },
  {
   "cell_type": "code",
   "execution_count": 10,
   "metadata": {},
   "outputs": [
    {
     "name": "stdout",
     "output_type": "stream",
     "text": [
      "12 13 14 15\n",
      "<map object at 0x0000018974685A90>\n",
      "12 13 14 15 "
     ]
    }
   ],
   "source": [
    "#taking list input using map()\n",
    "li=map(int,input().split())\n",
    "print(li)                          #here li will have only the map object id\n",
    "for ele in li :\n",
    "    print(ele , end=\" \")"
   ]
  },
  {
   "cell_type": "code",
   "execution_count": 13,
   "metadata": {},
   "outputs": [
    {
     "name": "stdout",
     "output_type": "stream",
     "text": [
      "1 2\n",
      "1 2\n",
      "13 15 15 12 13\n",
      "[13, 15, 15, 12, 13] "
     ]
    }
   ],
   "source": [
    "#how map() works\n",
    "n,m = map(int ,input().split())\n",
    "print(n,m)\n",
    "li=list(map(int,input().split()))\n",
    "print(li,end=\" \")"
   ]
  },
  {
   "cell_type": "code",
   "execution_count": 12,
   "metadata": {},
   "outputs": [
    {
     "name": "stdout",
     "output_type": "stream",
     "text": [
      "[1, 2, 3, 4, 22]\n"
     ]
    }
   ],
   "source": [
    "#Mutable concept\n",
    "#in python lists are mutable that means any change in list l2 will reflect to l1\n",
    "\n",
    "l1=[1,2,3,4]\n",
    "l2=l1\n",
    "l2.append(22)\n",
    "print(l1)"
   ]
  },
  {
   "cell_type": "code",
   "execution_count": 30,
   "metadata": {},
   "outputs": [
    {
     "name": "stdout",
     "output_type": "stream",
     "text": [
      "2 3 4 5 6 7 8\n",
      "['8', '7', '6', '5', '4', '3', '2']\n"
     ]
    }
   ],
   "source": [
    "#reversing a list\n",
    "#way1 using index or negative indexing\n",
    "\n",
    "def reverse(li):\n",
    "    length=len(li)\n",
    "    for i in range(length//2):\n",
    "        li[i] , li[length-i-1] = li[length-i-1] , li[i]\n",
    "    return li\n",
    "\n",
    "li=[ele for ele in input().split()]\n",
    "print(reverse(li))\n"
   ]
  },
  {
   "cell_type": "code",
   "execution_count": 35,
   "metadata": {},
   "outputs": [
    {
     "name": "stdout",
     "output_type": "stream",
     "text": [
      "1 2 3 4\n",
      "['4', '3', '2', '1']\n"
     ]
    }
   ],
   "source": [
    "#way2 \n",
    "#using inbuilt function\n",
    "\n",
    "li=[ele for ele in input().split()]\n",
    "li.reverse()\n",
    "print(li)"
   ]
  },
  {
   "cell_type": "code",
   "execution_count": 36,
   "metadata": {},
   "outputs": [
    {
     "name": "stdout",
     "output_type": "stream",
     "text": [
      "1 2 3 4 5\n",
      "['5', '4', '3', '2', '1']\n"
     ]
    }
   ],
   "source": [
    "#way3\n",
    "#using slicing techinue\n",
    "li=[ele for ele in input().split()] #here the input taken is in string as we have typecast it to int\n",
    "print(li[::-1])"
   ]
  },
  {
   "cell_type": "code",
   "execution_count": 45,
   "metadata": {},
   "outputs": [
    {
     "name": "stdout",
     "output_type": "stream",
     "text": [
      "6\n",
      "1 2 3 4 5 6\n",
      "[2, 1, 4, 3, 6, 5]\n"
     ]
    }
   ],
   "source": [
    "#Swap Alternate \n",
    "#6\n",
    "#9 3 6 12 4 32\n",
    "\n",
    "def swap(li):\n",
    "    for i in range(0,len(li)-1,2):\n",
    "        li[i],li[i+1]=li[i+1],li[i]\n",
    "    print(li)\n",
    "n=int(input())\n",
    "li=[int(ele) for ele in input().split()]\n",
    "swap(li)"
   ]
  },
  {
   "cell_type": "code",
   "execution_count": 47,
   "metadata": {},
   "outputs": [
    {
     "name": "stdout",
     "output_type": "stream",
     "text": [
      "0\n",
      "1\n",
      "2\n",
      "3\n",
      "4\n"
     ]
    }
   ],
   "source": [
    "for i in range(5):\n",
    "    print(i)"
   ]
  },
  {
   "cell_type": "code",
   "execution_count": 55,
   "metadata": {},
   "outputs": [
    {
     "name": "stdout",
     "output_type": "stream",
     "text": [
      "2 3 4 1 4 2 3\n",
      "1\n"
     ]
    }
   ],
   "source": [
    "#Find Unique \n",
    "def findunique(li):\n",
    "    for ele in li:\n",
    "        count =0\n",
    "        cur = ele\n",
    "        for ele in li:\n",
    "            if cur == ele:\n",
    "                count =count +1\n",
    "        if(count == 1):\n",
    "            return cur\n",
    "        \n",
    "           \n",
    "        \n",
    "li=[int(ele)for ele in input().split()]\n",
    "p=findunique(li)\n",
    "print(p)\n",
    "\n",
    "#in this we can use set too as set wont let the same ele inside it"
   ]
  },
  {
   "cell_type": "code",
   "execution_count": 56,
   "metadata": {},
   "outputs": [
    {
     "data": {
      "text/plain": [
       "{1, 2, 3, 4}"
      ]
     },
     "execution_count": 56,
     "metadata": {},
     "output_type": "execute_result"
    }
   ],
   "source": [
    "# usefullness of set in removing duplicaies\n",
    "li=[2,3,4,1,4,2,3]\n",
    "p=set(li)\n",
    "p"
   ]
  },
  {
   "cell_type": "code",
   "execution_count": 57,
   "metadata": {},
   "outputs": [
    {
     "data": {
      "text/plain": [
       "1"
      ]
     },
     "execution_count": 57,
     "metadata": {},
     "output_type": "execute_result"
    }
   ],
   "source": [
    "#Find Unique using set\n",
    "li=[2,3,4,1,4,2,3]\n",
    "p= 2*sum(set(li)) - sum(li)\n",
    "p"
   ]
  },
  {
   "cell_type": "markdown",
   "metadata": {},
   "source": [
    "# IN and IS operation"
   ]
  },
  {
   "cell_type": "code",
   "execution_count": 64,
   "metadata": {},
   "outputs": [
    {
     "name": "stdout",
     "output_type": "stream",
     "text": [
      "here\n",
      "with string here\n"
     ]
    }
   ],
   "source": [
    "#use of 'in' operator . it checks if the element exists in the given set of elemnts or not\n",
    "li=[1,2,3,4,5]\n",
    "if 1 in li:\n",
    "    print(\"here\")\n",
    "else:\n",
    "    print(\"not here\")\n",
    "    \n",
    "s=\"apple is good\"\n",
    "if 'o' in s:\n",
    "    print(\"with string here\")\n",
    "else:\n",
    "    print(\"not here in string\")"
   ]
  },
  {
   "cell_type": "code",
   "execution_count": 66,
   "metadata": {},
   "outputs": [
    {
     "name": "stdout",
     "output_type": "stream",
     "text": [
      "both are same\n",
      "both are not smae\n"
     ]
    }
   ],
   "source": [
    "#use of 'is' operator . \n",
    "#'is' and equals(==) operators are mostly same but they are not same. 'is'operator defines if both\n",
    "#the variables point to the same object whereas the == sign checks if the values for the two variables are the same.\n",
    "s=10\n",
    "p=10                                #here both the variables points to the same object it occurs only from -4 to 256\n",
    "if s is p:\n",
    "    print(\"both are same\")\n",
    "else:\n",
    "    print(\"both are not smae\")\n",
    "    \n",
    "a=300\n",
    "b=300 \n",
    "if a is b:                          #here both the variables donot points to the same object it occurs only from -4 to 256 \n",
    "    print(\"both are same\")\n",
    "else:\n",
    "    print(\"both are not smae\")"
   ]
  },
  {
   "cell_type": "code",
   "execution_count": 5,
   "metadata": {},
   "outputs": [
    {
     "name": "stdout",
     "output_type": "stream",
     "text": [
      "3 2 1 4 5\n",
      "True\n"
     ]
    }
   ],
   "source": [
    "#pythagoream triplet\n",
    "\n",
    "def triplet(li):\n",
    "    p=True\n",
    "    for i in range(len(li)-2):\n",
    "        j=i+1\n",
    "        for j in range(len(li)-1):\n",
    "            k=j+1\n",
    "            for k in range(len(li)):\n",
    "                if (li[k])**2 == ((li[i])**2)+((li[j])**2):\n",
    "                    print(True)\n",
    "                    return\n",
    "                \n",
    "li=[int(ele)for ele in input().split()]\n",
    "triplet(li)"
   ]
  },
  {
   "cell_type": "markdown",
   "metadata": {},
   "source": [
    "# searching and sorting\n"
   ]
  },
  {
   "cell_type": "markdown",
   "metadata": {},
   "source": [
    "# searching Algorithms"
   ]
  },
  {
   "cell_type": "code",
   "execution_count": 6,
   "metadata": {},
   "outputs": [
    {
     "name": "stdout",
     "output_type": "stream",
     "text": [
      "element found at 1\n"
     ]
    }
   ],
   "source": [
    "#lineaer search\n",
    "li=[1,2,3,4,5,6]\n",
    "p=2\n",
    "for ele in li :\n",
    "    if p == ele:\n",
    "        print(\"element found at\" ,li.index(ele))\n",
    "        break\n",
    "    else:\n",
    "        continue"
   ]
  },
  {
   "cell_type": "code",
   "execution_count": 10,
   "metadata": {},
   "outputs": [
    {
     "name": "stdout",
     "output_type": "stream",
     "text": [
      "element found at index 5\n"
     ]
    }
   ],
   "source": [
    "#binary search\n",
    "#before starting it there's a condition that the list shoud be sorted \n",
    "li=[1,2,3,4,5,6,7]\n",
    "li.sort()\n",
    "ele=6\n",
    "\n",
    "start=0\n",
    "end=len(li)-1\n",
    "mid=(start+end)//2\n",
    "\n",
    "while (start <= end):\n",
    "    #before starting first we will check if mid is equal to ele or not\n",
    "    if li[mid] == ele :\n",
    "        print(\"element found at index\",mid)\n",
    "        break\n",
    "    elif mid > ele :\n",
    "        end = mid - 1\n",
    "        mid = (start + end)//2 \n",
    "    else:\n",
    "        start =mid + 1\n",
    "        mid = ( start+ end)//2\n",
    "        "
   ]
  },
  {
   "cell_type": "markdown",
   "metadata": {},
   "source": [
    "# sorting "
   ]
  },
  {
   "cell_type": "code",
   "execution_count": 21,
   "metadata": {},
   "outputs": [
    {
     "name": "stdout",
     "output_type": "stream",
     "text": [
      "[2, 6, 1, 5, 3, 4]\n",
      "[1, 6, 2, 5, 3, 4]\n",
      "[1, 2, 6, 5, 3, 4]\n",
      "[1, 2, 5, 6, 3, 4]\n",
      "[1, 2, 3, 6, 5, 4]\n",
      "[1, 2, 3, 5, 6, 4]\n",
      "[1, 2, 3, 5, 6, 4]\n"
     ]
    }
   ],
   "source": [
    "#selection sort\n",
    "def selection_sort(li):\n",
    "    length=len(li)-1\n",
    "    for i in range(length) :\n",
    "        c=i\n",
    "        min = li[i]\n",
    "        for p in range(i+1,length):\n",
    "            if li[p] < min:\n",
    "                min = li[p]\n",
    "                li[c], li[p]= li[p],li[c]\n",
    "                print(li)\n",
    "                \n",
    "    return li\n",
    "\n",
    "li=[6,2,1,5,3,4]\n",
    "p=selection_sort(li)\n",
    "print(p)"
   ]
  },
  {
   "cell_type": "code",
   "execution_count": 27,
   "metadata": {},
   "outputs": [
    {
     "name": "stdout",
     "output_type": "stream",
     "text": [
      "[1, 2, 3, 4, 6, 8]\n"
     ]
    }
   ],
   "source": [
    "#bubble sort\n",
    "def bubblesort(li):\n",
    "    i=0\n",
    "    while(i<len(li)):\n",
    "        p=0\n",
    "        for q in range(1,len(li)-i):\n",
    "            if li[p]>li[q]:\n",
    "                \n",
    "                li[p],li[q]=li[q],li[p]\n",
    "                \n",
    "            p=p+1\n",
    "        i=i+1\n",
    "    print(li)\n",
    "    \n",
    "li=[6,4,8,3,1,2]\n",
    "bubblesort(li)"
   ]
  },
  {
   "cell_type": "code",
   "execution_count": 28,
   "metadata": {},
   "outputs": [
    {
     "name": "stdout",
     "output_type": "stream",
     "text": [
      "[1, 5, 6, 7, 8, 9]\n"
     ]
    }
   ],
   "source": [
    "#insertion sort \n",
    "def insertionsort(arr):\n",
    "    length=len(arr)\n",
    "    for i in range(1,len(arr)):\n",
    "        j=i-1\n",
    "        temp=arr[i]\n",
    "        while(j>=0 and arr[j]>temp):\n",
    "            arr[j+1]=arr[j]\n",
    "            j=j-1\n",
    "            \n",
    "        arr[j+1]=temp    \n",
    "    print(arr)\n",
    "\n",
    "arr=[9,8,5,6,7,1]\n",
    "insertionsort(arr)"
   ]
  },
  {
   "cell_type": "code",
   "execution_count": 3,
   "metadata": {},
   "outputs": [
    {
     "name": "stdout",
     "output_type": "stream",
     "text": [
      "[3, 5]\n",
      "[1, 3, 5]\n",
      "[2, 4]\n",
      "[6, 8]\n",
      "[2, 4, 6, 8]\n",
      "[1, 2, 3, 4, 5, 6, 8]\n"
     ]
    }
   ],
   "source": [
    "#merge sort\n",
    "def merge_sort(a):\n",
    "                                                   #base case\n",
    "    if( len(a)==0 or len(a)==1):\n",
    "        return a\n",
    "                                                   #small calculation\n",
    "    mid = len(a)//2\n",
    "    a1 = a[:mid]\n",
    "    a2 = a[mid:]\n",
    "                                                    #recursion call \n",
    "    merge_sort(a1)\n",
    "    merge_sort(a2)\n",
    "    \n",
    "    merging(a1,a2,a)\n",
    "    \n",
    "def merging(a1,a2,a):\n",
    "    i=0\n",
    "    j=0\n",
    "    k=0\n",
    "    while i<len(a1)and j<len(a2):\n",
    "        if a1[i] < a2[j]:\n",
    "            a[k] = a1[i]\n",
    "            i=i+1\n",
    "            k=k+1\n",
    "        else:\n",
    "            a[k] = a2[j]\n",
    "            j=j+1\n",
    "            k=k+1\n",
    "    \n",
    "    while i<len(a1):\n",
    "        a[k] = a1[i]\n",
    "        k=k+1\n",
    "        i=i+1\n",
    "    \n",
    "    while j<len(a2):\n",
    "        a[k] = a2[j]\n",
    "        k=k+1\n",
    "        j=j+1\n",
    "    \n",
    "    print(a)\n",
    "        \n",
    "\n",
    "a=[1,3,5,2,4,6,8]\n",
    "merge_sort(a)"
   ]
  },
  {
   "cell_type": "code",
   "execution_count": 16,
   "metadata": {},
   "outputs": [
    {
     "data": {
      "text/plain": [
       "[1, 2, 5, 6, 6, 7, 8, 9, 10]"
      ]
     },
     "execution_count": 16,
     "metadata": {},
     "output_type": "execute_result"
    }
   ],
   "source": [
    "#quick sort\n",
    "#the important thing we need to know is that we donot need to create  new array in this\n",
    "def partition(a,si,ei):\n",
    "    pivot=a[si]\n",
    "    c=0\n",
    "    for i in range(si,ei+1,1):\n",
    "        if a[i]<pivot:\n",
    "            c=c+1\n",
    "    a[si+c],a[si]=a[si],a[si+c]\n",
    "    pivot_index=si+c\n",
    "    i=si\n",
    "    j=ei\n",
    "    while i<j:\n",
    "        if a[i]<pivot:\n",
    "            i=i+1\n",
    "        elif a[j]>=pivot:\n",
    "            j=j-1\n",
    "        else:\n",
    "            a[i],a[j]=a[j],a[i]\n",
    "            i=i+1\n",
    "            j=j-1\n",
    "    return pivot_index\n",
    "\n",
    "def sort1(a,si,ei):\n",
    "    if si>=ei:\n",
    "        return\n",
    "    pivot_index=partition(a,si,ei)\n",
    "    sort1(a,si,pivot_index-1)\n",
    "    sort1(a,pivot_index+1,ei)\n",
    "    \n",
    "\n",
    "a=[6,7,8,6,5,1,2,9,10]\n",
    "sort1(a,0,len(a)-1)\n",
    "a"
   ]
  },
  {
   "cell_type": "code",
   "execution_count": 32,
   "metadata": {},
   "outputs": [
    {
     "name": "stdout",
     "output_type": "stream",
     "text": [
      "[1, 2, 2, 3, 7, 8, 10, 11]\n"
     ]
    }
   ],
   "source": [
    "#merging two sorted array\n",
    "#in the the condition is that both the list should be sorted\n",
    "\n",
    "def merging(arr1,arr2):\n",
    "    i=0\n",
    "    j=0\n",
    "    a=[]\n",
    "    while i<len(arr1) and j<len(arr2) :\n",
    "        if(arr1[i] < arr2[j]):\n",
    "            a.append(arr1[i])\n",
    "            i=i+1\n",
    "        else:\n",
    "            a.append(arr2[j])\n",
    "            j=j+1\n",
    "    while i < len(arr1):\n",
    "        a.append(arr1[i])\n",
    "        i=i+1\n",
    "    while j <len(arr2):\n",
    "        a.append(arr2[j])\n",
    "        j=j+1\n",
    "        \n",
    "    print(a)\n",
    "    \n",
    "arr1=[1,2,3,10]\n",
    "arr2=[2,7,8,11]\n",
    "merging(arr1,arr2)"
   ]
  },
  {
   "cell_type": "code",
   "execution_count": 34,
   "metadata": {},
   "outputs": [
    {
     "name": "stdout",
     "output_type": "stream",
     "text": [
      "[2, 3, 4, 5, 6, 1]\n"
     ]
    }
   ],
   "source": [
    "li=[1,2,3,4,5,6]\n",
    "li.remove(1)\n",
    "li.append(1)\n",
    "print(li)"
   ]
  },
  {
   "cell_type": "code",
   "execution_count": 9,
   "metadata": {},
   "outputs": [
    {
     "name": "stdout",
     "output_type": "stream",
     "text": [
      "5\n",
      "1 \n",
      "3 2 \n",
      "4 5 6 \n",
      "10 9 8 7 \n",
      "11 12 13 14 15 \n"
     ]
    }
   ],
   "source": [
    "#1\n",
    "#3 2\n",
    "#4 5 6\n",
    "#10 9 8 7\n",
    "#11 12 13 14 15\n",
    "\n",
    "\n",
    "n=int(input())\n",
    "count=1\n",
    "for i in range(1, n+1):\n",
    "    iterator = i\n",
    "    p=i\n",
    "    if i % 2 != 0 :                #if row no. is odd\n",
    "        while p > 0:\n",
    "            print(count,end=\" \")\n",
    "            count=count+1\n",
    "            p=p-1\n",
    "        print()\n",
    "        \n",
    "       \n",
    "    else:                           #if row no. is even \n",
    "        rev=count\n",
    "        count=count+i-1\n",
    "        while p > 0:\n",
    "            print(count, end=\" \")\n",
    "            count =count-1\n",
    "            p=p-1\n",
    "        print()\n",
    "        count =rev+i    "
   ]
  },
  {
   "cell_type": "markdown",
   "metadata": {},
   "source": [
    "# 2D list"
   ]
  },
  {
   "cell_type": "code",
   "execution_count": 4,
   "metadata": {},
   "outputs": [
    {
     "name": "stdout",
     "output_type": "stream",
     "text": [
      "enter n and m2 3\n",
      "1 2 3 4 5 6\n",
      "1 2 3 4 5 6\n",
      "[[1, 2, 3, 4, 5, 6], [1, 2, 3, 4, 5, 6]]\n"
     ]
    }
   ],
   "source": [
    "#2d array\n",
    "#how to take input\n",
    "#method 1\n",
    "#in this method we can enter as much elements as we want in a column only row number is fixed \n",
    "s=input(\"enter n and m\").split()\n",
    "n,m=int(s[0]),int(s[1])\n",
    "li=[[int(ele) for ele in input().split()]for i in range(n)]\n",
    "print(li)"
   ]
  },
  {
   "cell_type": "code",
   "execution_count": 9,
   "metadata": {},
   "outputs": [
    {
     "name": "stdout",
     "output_type": "stream",
     "text": [
      "enter n and m3 4\n",
      "1 2 3 4 5 6 7 8 9 0 1 2\n",
      "[[1, 2, 3, 4], [5, 6, 7, 8], [9, 0, 1, 2]]\n"
     ]
    }
   ],
   "source": [
    "#2d array \n",
    "#method 2\n",
    "#when we want the input to be in single line for all the rows  b[m*i+j]\n",
    "s=input(\"enter n and m\").split()\n",
    "n,m=int(s[0]),int(s[1])\n",
    "li=input().split()\n",
    "arr=[[int(li[m*i+j]) for j in range(m)]for i in range(n)]\n",
    "print(arr)"
   ]
  },
  {
   "cell_type": "code",
   "execution_count": 10,
   "metadata": {},
   "outputs": [
    {
     "name": "stdout",
     "output_type": "stream",
     "text": [
      "enter n and m3 4\n",
      "1 2 3 4 5 6 7 8 9 0 1 2\n"
     ]
    },
    {
     "ename": "IndexError",
     "evalue": "list index out of range",
     "output_type": "error",
     "traceback": [
      "\u001b[1;31m---------------------------------------------------------------------------\u001b[0m",
      "\u001b[1;31mIndexError\u001b[0m                                Traceback (most recent call last)",
      "\u001b[1;32m<ipython-input-10-65ca0371be9e>\u001b[0m in \u001b[0;36m<module>\u001b[1;34m\u001b[0m\n\u001b[0;32m      2\u001b[0m \u001b[0mn\u001b[0m\u001b[1;33m,\u001b[0m\u001b[0mm\u001b[0m\u001b[1;33m=\u001b[0m\u001b[0mint\u001b[0m\u001b[1;33m(\u001b[0m\u001b[0ms\u001b[0m\u001b[1;33m[\u001b[0m\u001b[1;36m0\u001b[0m\u001b[1;33m]\u001b[0m\u001b[1;33m)\u001b[0m\u001b[1;33m,\u001b[0m\u001b[0mint\u001b[0m\u001b[1;33m(\u001b[0m\u001b[0ms\u001b[0m\u001b[1;33m[\u001b[0m\u001b[1;36m1\u001b[0m\u001b[1;33m]\u001b[0m\u001b[1;33m)\u001b[0m\u001b[1;33m\u001b[0m\u001b[1;33m\u001b[0m\u001b[0m\n\u001b[0;32m      3\u001b[0m \u001b[0mli\u001b[0m\u001b[1;33m=\u001b[0m\u001b[0minput\u001b[0m\u001b[1;33m(\u001b[0m\u001b[1;33m)\u001b[0m\u001b[1;33m.\u001b[0m\u001b[0msplit\u001b[0m\u001b[1;33m(\u001b[0m\u001b[1;33m)\u001b[0m\u001b[1;33m\u001b[0m\u001b[1;33m\u001b[0m\u001b[0m\n\u001b[1;32m----> 4\u001b[1;33m \u001b[0marr\u001b[0m\u001b[1;33m=\u001b[0m\u001b[1;33m[\u001b[0m\u001b[1;33m[\u001b[0m\u001b[0mint\u001b[0m\u001b[1;33m(\u001b[0m\u001b[0mli\u001b[0m\u001b[1;33m[\u001b[0m\u001b[0mm\u001b[0m\u001b[1;33m*\u001b[0m\u001b[0mj\u001b[0m\u001b[1;33m+\u001b[0m\u001b[0mi\u001b[0m\u001b[1;33m]\u001b[0m\u001b[1;33m)\u001b[0m \u001b[1;32mfor\u001b[0m \u001b[0mj\u001b[0m \u001b[1;32min\u001b[0m \u001b[0mrange\u001b[0m\u001b[1;33m(\u001b[0m\u001b[0mm\u001b[0m\u001b[1;33m)\u001b[0m\u001b[1;33m]\u001b[0m\u001b[1;32mfor\u001b[0m \u001b[0mi\u001b[0m \u001b[1;32min\u001b[0m \u001b[0mrange\u001b[0m\u001b[1;33m(\u001b[0m\u001b[0mn\u001b[0m\u001b[1;33m)\u001b[0m\u001b[1;33m]\u001b[0m\u001b[1;33m\u001b[0m\u001b[1;33m\u001b[0m\u001b[0m\n\u001b[0m\u001b[0;32m      5\u001b[0m \u001b[0mprint\u001b[0m\u001b[1;33m(\u001b[0m\u001b[0marr\u001b[0m\u001b[1;33m)\u001b[0m\u001b[1;33m\u001b[0m\u001b[1;33m\u001b[0m\u001b[0m\n",
      "\u001b[1;32m<ipython-input-10-65ca0371be9e>\u001b[0m in \u001b[0;36m<listcomp>\u001b[1;34m(.0)\u001b[0m\n\u001b[0;32m      2\u001b[0m \u001b[0mn\u001b[0m\u001b[1;33m,\u001b[0m\u001b[0mm\u001b[0m\u001b[1;33m=\u001b[0m\u001b[0mint\u001b[0m\u001b[1;33m(\u001b[0m\u001b[0ms\u001b[0m\u001b[1;33m[\u001b[0m\u001b[1;36m0\u001b[0m\u001b[1;33m]\u001b[0m\u001b[1;33m)\u001b[0m\u001b[1;33m,\u001b[0m\u001b[0mint\u001b[0m\u001b[1;33m(\u001b[0m\u001b[0ms\u001b[0m\u001b[1;33m[\u001b[0m\u001b[1;36m1\u001b[0m\u001b[1;33m]\u001b[0m\u001b[1;33m)\u001b[0m\u001b[1;33m\u001b[0m\u001b[1;33m\u001b[0m\u001b[0m\n\u001b[0;32m      3\u001b[0m \u001b[0mli\u001b[0m\u001b[1;33m=\u001b[0m\u001b[0minput\u001b[0m\u001b[1;33m(\u001b[0m\u001b[1;33m)\u001b[0m\u001b[1;33m.\u001b[0m\u001b[0msplit\u001b[0m\u001b[1;33m(\u001b[0m\u001b[1;33m)\u001b[0m\u001b[1;33m\u001b[0m\u001b[1;33m\u001b[0m\u001b[0m\n\u001b[1;32m----> 4\u001b[1;33m \u001b[0marr\u001b[0m\u001b[1;33m=\u001b[0m\u001b[1;33m[\u001b[0m\u001b[1;33m[\u001b[0m\u001b[0mint\u001b[0m\u001b[1;33m(\u001b[0m\u001b[0mli\u001b[0m\u001b[1;33m[\u001b[0m\u001b[0mm\u001b[0m\u001b[1;33m*\u001b[0m\u001b[0mj\u001b[0m\u001b[1;33m+\u001b[0m\u001b[0mi\u001b[0m\u001b[1;33m]\u001b[0m\u001b[1;33m)\u001b[0m \u001b[1;32mfor\u001b[0m \u001b[0mj\u001b[0m \u001b[1;32min\u001b[0m \u001b[0mrange\u001b[0m\u001b[1;33m(\u001b[0m\u001b[0mm\u001b[0m\u001b[1;33m)\u001b[0m\u001b[1;33m]\u001b[0m\u001b[1;32mfor\u001b[0m \u001b[0mi\u001b[0m \u001b[1;32min\u001b[0m \u001b[0mrange\u001b[0m\u001b[1;33m(\u001b[0m\u001b[0mn\u001b[0m\u001b[1;33m)\u001b[0m\u001b[1;33m]\u001b[0m\u001b[1;33m\u001b[0m\u001b[1;33m\u001b[0m\u001b[0m\n\u001b[0m\u001b[0;32m      5\u001b[0m \u001b[0mprint\u001b[0m\u001b[1;33m(\u001b[0m\u001b[0marr\u001b[0m\u001b[1;33m)\u001b[0m\u001b[1;33m\u001b[0m\u001b[1;33m\u001b[0m\u001b[0m\n",
      "\u001b[1;32m<ipython-input-10-65ca0371be9e>\u001b[0m in \u001b[0;36m<listcomp>\u001b[1;34m(.0)\u001b[0m\n\u001b[0;32m      2\u001b[0m \u001b[0mn\u001b[0m\u001b[1;33m,\u001b[0m\u001b[0mm\u001b[0m\u001b[1;33m=\u001b[0m\u001b[0mint\u001b[0m\u001b[1;33m(\u001b[0m\u001b[0ms\u001b[0m\u001b[1;33m[\u001b[0m\u001b[1;36m0\u001b[0m\u001b[1;33m]\u001b[0m\u001b[1;33m)\u001b[0m\u001b[1;33m,\u001b[0m\u001b[0mint\u001b[0m\u001b[1;33m(\u001b[0m\u001b[0ms\u001b[0m\u001b[1;33m[\u001b[0m\u001b[1;36m1\u001b[0m\u001b[1;33m]\u001b[0m\u001b[1;33m)\u001b[0m\u001b[1;33m\u001b[0m\u001b[1;33m\u001b[0m\u001b[0m\n\u001b[0;32m      3\u001b[0m \u001b[0mli\u001b[0m\u001b[1;33m=\u001b[0m\u001b[0minput\u001b[0m\u001b[1;33m(\u001b[0m\u001b[1;33m)\u001b[0m\u001b[1;33m.\u001b[0m\u001b[0msplit\u001b[0m\u001b[1;33m(\u001b[0m\u001b[1;33m)\u001b[0m\u001b[1;33m\u001b[0m\u001b[1;33m\u001b[0m\u001b[0m\n\u001b[1;32m----> 4\u001b[1;33m \u001b[0marr\u001b[0m\u001b[1;33m=\u001b[0m\u001b[1;33m[\u001b[0m\u001b[1;33m[\u001b[0m\u001b[0mint\u001b[0m\u001b[1;33m(\u001b[0m\u001b[0mli\u001b[0m\u001b[1;33m[\u001b[0m\u001b[0mm\u001b[0m\u001b[1;33m*\u001b[0m\u001b[0mj\u001b[0m\u001b[1;33m+\u001b[0m\u001b[0mi\u001b[0m\u001b[1;33m]\u001b[0m\u001b[1;33m)\u001b[0m \u001b[1;32mfor\u001b[0m \u001b[0mj\u001b[0m \u001b[1;32min\u001b[0m \u001b[0mrange\u001b[0m\u001b[1;33m(\u001b[0m\u001b[0mm\u001b[0m\u001b[1;33m)\u001b[0m\u001b[1;33m]\u001b[0m\u001b[1;32mfor\u001b[0m \u001b[0mi\u001b[0m \u001b[1;32min\u001b[0m \u001b[0mrange\u001b[0m\u001b[1;33m(\u001b[0m\u001b[0mn\u001b[0m\u001b[1;33m)\u001b[0m\u001b[1;33m]\u001b[0m\u001b[1;33m\u001b[0m\u001b[1;33m\u001b[0m\u001b[0m\n\u001b[0m\u001b[0;32m      5\u001b[0m \u001b[0mprint\u001b[0m\u001b[1;33m(\u001b[0m\u001b[0marr\u001b[0m\u001b[1;33m)\u001b[0m\u001b[1;33m\u001b[0m\u001b[1;33m\u001b[0m\u001b[0m\n",
      "\u001b[1;31mIndexError\u001b[0m: list index out of range"
     ]
    }
   ],
   "source": [
    "#rember the formula its (((m*i+j))) not m*j+i\n",
    "s=input(\"enter n and m\").split()\n",
    "n,m=int(s[0]),int(s[1])\n",
    "li=input().split()\n",
    "arr=[[int(li[m*j+i]) for j in range(m)]for i in range(n)]\n",
    "print(arr)"
   ]
  },
  {
   "cell_type": "code",
   "execution_count": 12,
   "metadata": {},
   "outputs": [
    {
     "name": "stdout",
     "output_type": "stream",
     "text": [
      "3 4 1 2 3 4 5 6 7 8 9 0 1 2\n",
      "[[1, 2, 3, 4], [5, 6, 7, 8], [9, 0, 1, 2]]\n"
     ]
    }
   ],
   "source": [
    "#when n,m and string is given in a single line\n",
    "#method 3\n",
    "s=input().split()\n",
    "n,m=int(s[0]),int(s[1])\n",
    "b=s[2:]\n",
    "arr=[[int(b[m*i+j]) for j in range(m)]for i in range(n)]\n",
    "print(arr)"
   ]
  },
  {
   "cell_type": "markdown",
   "metadata": {},
   "source": [
    "# Strings"
   ]
  },
  {
   "cell_type": "code",
   "execution_count": 20,
   "metadata": {},
   "outputs": [
    {
     "name": "stdout",
     "output_type": "stream",
     "text": [
      "1689833097008\n",
      "abcblue\n",
      "1689876340336\n"
     ]
    }
   ],
   "source": [
    "a=\"abc\"\n",
    "print(id(a))\n",
    "a=a+'blue'\n",
    "print(a)\n",
    "print(id(a))"
   ]
  },
  {
   "cell_type": "code",
   "execution_count": 22,
   "metadata": {},
   "outputs": [
    {
     "name": "stdout",
     "output_type": "stream",
     "text": [
      "aapple\n"
     ]
    }
   ],
   "source": [
    "a=\"apple\"\n",
    "b='a'+a\n",
    "print(b)"
   ]
  },
  {
   "cell_type": "code",
   "execution_count": 25,
   "metadata": {},
   "outputs": [
    {
     "name": "stdout",
     "output_type": "stream",
     "text": [
      "apple\n",
      "APPLE\n"
     ]
    }
   ],
   "source": [
    "str=\"APPLE\"\n",
    "print(str.lower())\n",
    "print(str)"
   ]
  },
  {
   "cell_type": "code",
   "execution_count": 26,
   "metadata": {},
   "outputs": [
    {
     "name": "stdout",
     "output_type": "stream",
     "text": [
      "apple\n",
      "apple\n"
     ]
    }
   ],
   "source": [
    "str=\"apple\"\n",
    "print(str.lower())\n",
    "print(str)"
   ]
  },
  {
   "cell_type": "code",
   "execution_count": 27,
   "metadata": {},
   "outputs": [
    {
     "name": "stdout",
     "output_type": "stream",
     "text": [
      "Salkdjlajs\n",
      "salkdjLAJS\n"
     ]
    }
   ],
   "source": [
    "str=\"salkdjLAJS\"\n",
    "print(str.capitalize())"
   ]
  },
  {
   "cell_type": "code",
   "execution_count": 28,
   "metadata": {},
   "outputs": [
    {
     "name": "stdout",
     "output_type": "stream",
     "text": [
      "good\n"
     ]
    }
   ],
   "source": [
    "s=\"apple\"\n",
    "if(s.islower()):\n",
    "    print(\"good\")"
   ]
  },
  {
   "cell_type": "code",
   "execution_count": 38,
   "metadata": {},
   "outputs": [
    {
     "name": "stdout",
     "output_type": "stream",
     "text": [
      "isalpha1\n",
      "isalpha2\n"
     ]
    }
   ],
   "source": [
    "s=\"as\"\n",
    "if(s.isalpha()):\n",
    "    print(\"isalpha1\")\n",
    "if(s.isalnum()):\n",
    "    print(\"isalpha2\")\n",
    "if(s.isnumeric()):\n",
    "    print(\"isalpha3\")\n",
    "if(s.isdigit()):\n",
    "    print(\"isalpha4\")"
   ]
  },
  {
   "cell_type": "code",
   "execution_count": 44,
   "metadata": {},
   "outputs": [
    {
     "name": "stdout",
     "output_type": "stream",
     "text": [
      "True\n",
      "True\n",
      "True\n",
      "True\n"
     ]
    }
   ],
   "source": [
    "str =\"apple is good\"\n",
    "ans = str.startswith(\"apple\")\n",
    "print(ans)\n",
    "ans = str.startswith(\"a\")\n",
    "print(ans)\n",
    "ans = str.startswith(\"appl\")\n",
    "print(ans)\n",
    "ans = str.startswith(\"apple i\")\n",
    "print(ans)"
   ]
  },
  {
   "cell_type": "code",
   "execution_count": 47,
   "metadata": {},
   "outputs": [
    {
     "name": "stdout",
     "output_type": "stream",
     "text": [
      "ym eman si ajadeoh\n",
      "ym eman si ajadeoh\n"
     ]
    }
   ],
   "source": [
    "#reverse each word\n",
    "s=\"my name is hoedaja\"\n",
    "li= s.split() #we seperate each word\n",
    "words =[word[::-1] for word in li]\n",
    "p=\" \".join([ele for ele in words])\n",
    "print(p)\n",
    "q=\" \".join(words)\n",
    "print(q)"
   ]
  },
  {
   "cell_type": "code",
   "execution_count": 118,
   "metadata": {},
   "outputs": [
    {
     "name": "stdout",
     "output_type": "stream",
     "text": [
      "banana\n",
      "apple\n"
     ]
    }
   ],
   "source": [
    "#how strip words \n",
    "txt = \",,,,,rrttgg.....banana....rrr\"\n",
    "x = txt.strip(\",.grt\")     #string trims paritculart set of characters from the given string\n",
    "print(x)\n",
    "a=\"    apple......\"\n",
    "x=a.strip(\" .\")     #it will remove spaces and '.'\n",
    "print(x)"
   ]
  },
  {
   "cell_type": "code",
   "execution_count": null,
   "metadata": {},
   "outputs": [],
   "source": [
    "'''capitalize()\tConverts the first character to upper case\n",
    "casefold()\tConverts string into lower case\n",
    "center()\tReturns a centered string\n",
    "count()\tReturns the number of times a specified value occurs in a string\n",
    "encode()\tReturns an encoded version of the string\n",
    "endswith()\tReturns true if the string ends with the specified value\n",
    "expandtabs()\tSets the tab size of the string\n",
    "find()\tSearches the string for a specified value and returns the position of where it was found\n",
    "format()\tFormats specified values in a string\n",
    "format_map()\tFormats specified values in a string\n",
    "index()\tSearches the string for a specified value and returns the position of where it was found\n",
    "isalnum()\tReturns True if all characters in the string are alphanumeric\n",
    "isalpha()\tReturns True if all characters in the string are in the alphabet\n",
    "isdecimal()\tReturns True if all characters in the string are decimals\n",
    "isdigit()\tReturns True if all characters in the string are digits\n",
    "isidentifier()\tReturns True if the string is an identifier\n",
    "islower()\tReturns True if all characters in the string are lower case\n",
    "isnumeric()\tReturns True if all characters in the string are numeric\n",
    "isprintable()\tReturns True if all characters in the string are printable\n",
    "isspace()\tReturns True if all characters in the string are whitespaces\n",
    "istitle() \tReturns True if the string follows the rules of a title\n",
    "isupper()\tReturns True if all characters in the string are upper case\n",
    "join()\tJoins the elements of an iterable to the end of the string\n",
    "ljust()\tReturns a left justified version of the string\n",
    "lower()\tConverts a string into lower case\n",
    "lstrip()\tReturns a left trim version of the string\n",
    "maketrans()\tReturns a translation table to be used in translations\n",
    "partition()\tReturns a tuple where the string is parted into three parts\n",
    "replace()\tReturns a string where a specified value is replaced with a specified value\n",
    "rfind()\tSearches the string for a specified value and returns the last position of where it was found\n",
    "rindex()\tSearches the string for a specified value and returns the last position of where it was found\n",
    "rjust()\tReturns a right justified version of the string\n",
    "rpartition()\tReturns a tuple where the string is parted into three parts\n",
    "rsplit()\tSplits the string at the specified separator, and returns a list\n",
    "rstrip()\tReturns a right trim version of the string\n",
    "split()\tSplits the string at the specified separator, and returns a list\n",
    "splitlines()\tSplits the string at line breaks and returns a list\n",
    "startswith()\tReturns true if the string starts with the specified value\n",
    "strip()\tReturns a trimmed version of the string\n",
    "swapcase()\tSwaps cases, lower case becomes upper case and vice versa\n",
    "title()\tConverts the first character of each word to upper case\n",
    "translate()\tReturns a translated string\n",
    "upper()\tConverts a string into upper case\n",
    "zfill()\tFills the string with a specified number of 0 values at the beginning\n",
    "'''"
   ]
  },
  {
   "cell_type": "markdown",
   "metadata": {},
   "source": [
    "# Tuples"
   ]
  },
  {
   "cell_type": "code",
   "execution_count": 48,
   "metadata": {},
   "outputs": [
    {
     "name": "stdout",
     "output_type": "stream",
     "text": [
      "(1, 2)\n"
     ]
    }
   ],
   "source": [
    "b=(1,2)\n",
    "print(b)"
   ]
  },
  {
   "cell_type": "code",
   "execution_count": 51,
   "metadata": {},
   "outputs": [
    {
     "ename": "NameError",
     "evalue": "name 'b' is not defined",
     "output_type": "error",
     "traceback": [
      "\u001b[1;31m---------------------------------------------------------------------------\u001b[0m",
      "\u001b[1;31mNameError\u001b[0m                                 Traceback (most recent call last)",
      "\u001b[1;32m<ipython-input-51-d5cea54963ea>\u001b[0m in \u001b[0;36m<module>\u001b[1;34m\u001b[0m\n\u001b[0;32m      1\u001b[0m \u001b[0mb\u001b[0m\u001b[1;33m=\u001b[0m\u001b[1;33m(\u001b[0m\u001b[1;36m1\u001b[0m\u001b[1;33m,\u001b[0m\u001b[1;36m2\u001b[0m\u001b[1;33m)\u001b[0m\u001b[1;33m\u001b[0m\u001b[1;33m\u001b[0m\u001b[0m\n\u001b[0;32m      2\u001b[0m \u001b[1;32mdel\u001b[0m \u001b[0mb\u001b[0m\u001b[1;33m\u001b[0m\u001b[1;33m\u001b[0m\u001b[0m\n\u001b[1;32m----> 3\u001b[1;33m \u001b[0mprint\u001b[0m\u001b[1;33m(\u001b[0m\u001b[0mb\u001b[0m\u001b[1;33m)\u001b[0m\u001b[1;33m\u001b[0m\u001b[1;33m\u001b[0m\u001b[0m\n\u001b[0m",
      "\u001b[1;31mNameError\u001b[0m: name 'b' is not defined"
     ]
    }
   ],
   "source": [
    "#how to delete a tuple\n",
    "b=(1,2)\n",
    "del b\n",
    "print(b)"
   ]
  },
  {
   "cell_type": "code",
   "execution_count": 54,
   "metadata": {},
   "outputs": [
    {
     "name": "stdout",
     "output_type": "stream",
     "text": [
      "1689912859584\n",
      "1689903778208\n",
      "(1, 2, 1, 3)\n"
     ]
    }
   ],
   "source": [
    "#concatenation of a tuple\n",
    "b=(1,2)\n",
    "print(id(b))\n",
    "c=(1,3)\n",
    "b=b+c\n",
    "print(id(b))\n",
    "print(b)"
   ]
  },
  {
   "cell_type": "code",
   "execution_count": 56,
   "metadata": {},
   "outputs": [
    {
     "name": "stdout",
     "output_type": "stream",
     "text": [
      "((1, 2), (1, 3))\n"
     ]
    }
   ],
   "source": [
    "#typle inside tuple\n",
    "b=(1,2)\n",
    "c=(1,3)\n",
    "d=(b,c)\n",
    "print(d)"
   ]
  },
  {
   "cell_type": "code",
   "execution_count": 58,
   "metadata": {},
   "outputs": [
    {
     "name": "stdout",
     "output_type": "stream",
     "text": [
      "[1, 2, 3, 4, 1, 2, 3, 4, 1, 2, 3, 4, 1, 2, 3, 4]\n",
      "(1, 3, 4, 3, 1, 3, 4, 3, 1, 3, 4, 3, 1, 3, 4, 3)\n"
     ]
    }
   ],
   "source": [
    "li=[1,2,3,4]\n",
    "print(li*4)\n",
    "\n",
    "p=(1,3,4,3)\n",
    "print(p*4)\n"
   ]
  },
  {
   "cell_type": "code",
   "execution_count": 60,
   "metadata": {},
   "outputs": [
    {
     "name": "stdout",
     "output_type": "stream",
     "text": [
      "(1, 3, 6, 7)\n"
     ]
    }
   ],
   "source": [
    "li=[1,3,6,7]\n",
    "p=tuple(li)\n",
    "print(p)"
   ]
  },
  {
   "cell_type": "code",
   "execution_count": 62,
   "metadata": {},
   "outputs": [
    {
     "name": "stdout",
     "output_type": "stream",
     "text": [
      "(3, 4, 5)\n",
      "(15, 1, 2)\n"
     ]
    }
   ],
   "source": [
    "#use of tuple in taking multiple return output\n",
    "def mul(a,b,*more):           #when we are not sure how many variable we are gonna pass so we create a tuple that takes all\n",
    "                                            # all the additional value and save into tuples\n",
    "    sum= a+b\n",
    "    print(more)\n",
    "    for ele in more:\n",
    "        sum = sum +ele\n",
    "    return sum,a,b\n",
    "    \n",
    "c=mul(1,2,3,4,5)   #here c takes mutiples input form the return statement and stores all the values in a tuple name 'c'\n",
    "print(c)"
   ]
  },
  {
   "cell_type": "markdown",
   "metadata": {},
   "source": [
    "# DICTIONARY"
   ]
  },
  {
   "cell_type": "code",
   "execution_count": 63,
   "metadata": {},
   "outputs": [
    {
     "name": "stdout",
     "output_type": "stream",
     "text": [
      "{'the': 2, 'no': 4}\n",
      "{100: 'apple'}\n"
     ]
    }
   ],
   "source": [
    "#how to create a list\n",
    "#way1\n",
    "a={}\n",
    "a={'the':2 ,'no':4}           #a{key : value}\n",
    "print(a)\n",
    "c={100 : 'apple'}\n",
    "print(c)"
   ]
  },
  {
   "cell_type": "code",
   "execution_count": 114,
   "metadata": {},
   "outputs": [
    {
     "name": "stdout",
     "output_type": "stream",
     "text": [
      "<built-in method copy of dict object at 0x0000018976D0BC40>\n",
      "{100: 'apple'}\n",
      "100\n"
     ]
    }
   ],
   "source": [
    "#way2\n",
    "c={100 : 'apple'}\n",
    "p=c.copy    #when we donot put bracket it will share the location of where the 'p' is created\n",
    "d=c.copy()\n",
    "print(p)\n",
    "print(d)\n",
    "for ele in d:\n",
    "    print(ele)"
   ]
  },
  {
   "cell_type": "code",
   "execution_count": 71,
   "metadata": {},
   "outputs": [
    {
     "data": {
      "text/plain": [
       "{'the': 2, 'aplle': 4}"
      ]
     },
     "execution_count": 71,
     "metadata": {},
     "output_type": "execute_result"
    }
   ],
   "source": [
    "#way3\n",
    "dict1 = dict([('the',2),('aplle',4)])\n",
    "dict1"
   ]
  },
  {
   "cell_type": "code",
   "execution_count": 73,
   "metadata": {},
   "outputs": [
    {
     "data": {
      "text/plain": [
       "{'abc': None, 34: None, 21: None}"
      ]
     },
     "execution_count": 73,
     "metadata": {},
     "output_type": "execute_result"
    }
   ],
   "source": [
    "#way4\n",
    "dict1 = dict.fromkeys({\"abc\",34,21})\n",
    "dict1"
   ]
  },
  {
   "cell_type": "code",
   "execution_count": 74,
   "metadata": {},
   "outputs": [
    {
     "name": "stdout",
     "output_type": "stream",
     "text": [
      "2\n"
     ]
    }
   ],
   "source": [
    "#how to access variables in dict\n",
    "a={'the':2 ,'no':4} \n",
    "print(a['the'])"
   ]
  },
  {
   "cell_type": "code",
   "execution_count": 87,
   "metadata": {},
   "outputs": [
    {
     "name": "stdout",
     "output_type": "stream",
     "text": [
      "4\n",
      "{1, 3, 4}\n",
      "2\n",
      "None\n",
      "0\n"
     ]
    },
    {
     "ename": "KeyError",
     "evalue": "'li'",
     "output_type": "error",
     "traceback": [
      "\u001b[1;31m---------------------------------------------------------------------------\u001b[0m",
      "\u001b[1;31mKeyError\u001b[0m                                  Traceback (most recent call last)",
      "\u001b[1;32m<ipython-input-87-744e511dbd05>\u001b[0m in \u001b[0;36m<module>\u001b[1;34m\u001b[0m\n\u001b[0;32m     11\u001b[0m \u001b[1;33m\u001b[0m\u001b[0m\n\u001b[0;32m     12\u001b[0m \u001b[1;31m#now if we wont use get and try to access a key which which is not in the dictionary then it will show error\u001b[0m\u001b[1;33m\u001b[0m\u001b[1;33m\u001b[0m\u001b[1;33m\u001b[0m\u001b[0m\n\u001b[1;32m---> 13\u001b[1;33m \u001b[0mprint\u001b[0m\u001b[1;33m(\u001b[0m\u001b[0mdict1\u001b[0m\u001b[1;33m[\u001b[0m\u001b[1;34m'li'\u001b[0m\u001b[1;33m]\u001b[0m\u001b[1;33m)\u001b[0m\u001b[1;33m\u001b[0m\u001b[1;33m\u001b[0m\u001b[0m\n\u001b[0m",
      "\u001b[1;31mKeyError\u001b[0m: 'li'"
     ]
    }
   ],
   "source": [
    "dict1={1:2 ,3:4 ,\"list\" :[1,3,4], \"dict2\":{1,3,4}}\n",
    "print(dict1[3])\n",
    "\n",
    "print(dict1['dict2'])\n",
    "\n",
    "print(dict1.get(1))\n",
    "\n",
    "print(dict1.get('li')) #now as we can see that the key =\"li\" is not avaliable her so it will give NONE \n",
    "                        #in order to change the value to something else we can specify it\n",
    "print(dict1.get('li',0)) #now instead of NONE we are given 0\n",
    "\n",
    "#now if we wont use get and try to access a key which which is not in the dictionary then it will show error\n",
    "print(dict1['li'])"
   ]
  },
  {
   "cell_type": "code",
   "execution_count": 102,
   "metadata": {},
   "outputs": [
    {
     "name": "stdout",
     "output_type": "stream",
     "text": [
      "dict_keys([1, 3, 'list', 'dict2'])\n",
      "dict_values([2, 4, [1, 3, 4], {1, 3, 4}])\n",
      "dict_items([(1, 2), (3, 4), ('list', [1, 3, 4]), ('dict2', {1, 3, 4})])\n"
     ]
    }
   ],
   "source": [
    "dict1={1:2 ,3:4 ,\"list\" :[1,3,4], \"dict2\":{1,3,4}}\n",
    "print(dict1.keys())\n",
    "\n",
    "print(dict1.values())\n",
    "\n",
    "print(dict1.items())"
   ]
  },
  {
   "cell_type": "code",
   "execution_count": 103,
   "metadata": {},
   "outputs": [
    {
     "name": "stdout",
     "output_type": "stream",
     "text": [
      "1   2\n",
      "3   4\n",
      "list   [1, 3, 4]\n",
      "dict2   {1, 3, 4}\n"
     ]
    }
   ],
   "source": [
    "#looping in dict\n",
    "dict1={1:2 ,3:4 ,\"list\" :[1,3,4], \"dict2\":{1,3,4}}\n",
    "for ele in dict1:\n",
    "    print(ele,\" \",dict1[ele])"
   ]
  },
  {
   "cell_type": "code",
   "execution_count": 105,
   "metadata": {},
   "outputs": [
    {
     "name": "stdout",
     "output_type": "stream",
     "text": [
      "2\n",
      "4\n",
      "[1, 3, 4]\n",
      "{1, 3, 4}\n"
     ]
    }
   ],
   "source": [
    "dict1={1:2 ,3:4 ,\"list\" :[1,3,4], \"dict2\":{1,3,4}}\n",
    "for ele in dict1.values():\n",
    "    print(ele)"
   ]
  },
  {
   "cell_type": "code",
   "execution_count": 107,
   "metadata": {},
   "outputs": [
    {
     "name": "stdout",
     "output_type": "stream",
     "text": [
      "True\n"
     ]
    }
   ],
   "source": [
    "#checking condition\n",
    "dict1={1:2 ,3:4 ,\"list\" :[1,3,4], \"dict2\":{1,3,4}}\n",
    "if \"list\" in dict1:         #checking whether key is availble or not\n",
    "    print(True)"
   ]
  },
  {
   "cell_type": "code",
   "execution_count": 91,
   "metadata": {},
   "outputs": [
    {
     "name": "stdout",
     "output_type": "stream",
     "text": [
      "{1: 2, 3: 4, 5: 7}\n",
      "1689913607360\n",
      "{1: 2, 3: 4, 5: 7, 4: 'to you'}\n",
      "1689913607360\n"
     ]
    }
   ],
   "source": [
    "#inserting a new value\n",
    "dict1={1:2 ,3:4}\n",
    "dict1[5]=7\n",
    "print(dict1)\n",
    "print(id(dict1))\n",
    "dict1[4]=\"to you\"\n",
    "print(dict1)\n",
    "print(id(dict1))"
   ]
  },
  {
   "cell_type": "code",
   "execution_count": 115,
   "metadata": {},
   "outputs": [
    {
     "data": {
      "text/plain": [
       "{1: 7, 3: 4}"
      ]
     },
     "execution_count": 115,
     "metadata": {},
     "output_type": "execute_result"
    }
   ],
   "source": [
    "#updating values in a dictionary\n",
    "dict1={1:2 ,3:4}\n",
    "dict1[1]=7\n",
    "dict1"
   ]
  },
  {
   "cell_type": "code",
   "execution_count": 117,
   "metadata": {},
   "outputs": [
    {
     "data": {
      "text/plain": [
       "{1: 4, 3: 4, 2: 7}"
      ]
     },
     "execution_count": 117,
     "metadata": {},
     "output_type": "execute_result"
    }
   ],
   "source": [
    "#what happens when we merge two dictionaries consiting of same keys  but different values .\n",
    "#it will update the value\n",
    "#if it come across with duplicate data then it wont merge that key and value associated with it\n",
    "dict1={1:2 ,3:4}\n",
    "dict2={1:4 ,2:7,3:4}\n",
    "dict1.update(dict2)\n",
    "dict1"
   ]
  },
  {
   "cell_type": "code",
   "execution_count": 119,
   "metadata": {},
   "outputs": [
    {
     "name": "stdout",
     "output_type": "stream",
     "text": [
      "{3: 4, 2: 7}\n",
      "{2: 7}\n",
      "{}\n"
     ]
    }
   ],
   "source": [
    "#deletion from a dictionary\n",
    "dict1={1: 4, 3: 4, 2: 7}\n",
    "\n",
    "dict1.pop(1)   # dict.pop[key]\n",
    "print(dict1)\n",
    "\n",
    "del dict1[3]    # del dict1[key]\n",
    "print(dict1)\n",
    "\n",
    "dict1.clear()   #clears all the values from the dictionary  \n",
    "print(dict1)"
   ]
  },
  {
   "cell_type": "code",
   "execution_count": 93,
   "metadata": {},
   "outputs": [
    {
     "name": "stdout",
     "output_type": "stream",
     "text": [
      "1689911691008\n",
      "1689911691008\n",
      "[1, 2, 3, 5, 4]\n"
     ]
    }
   ],
   "source": [
    "#id of list remains same meaning its is nutable\n",
    "li=[1,2,3,5]\n",
    "print(id(li))\n",
    "li.append(4)\n",
    "print(id(li))\n",
    "print(li)"
   ]
  },
  {
   "cell_type": "code",
   "execution_count": 94,
   "metadata": {},
   "outputs": [
    {
     "name": "stdout",
     "output_type": "stream",
     "text": [
      "140719041427392\n",
      "140719041427520\n"
     ]
    }
   ],
   "source": [
    "#id of 'a' changes meaning it is immutable\n",
    "a=6\n",
    "print(id(a))\n",
    "a=6+4\n",
    "print(id(a))"
   ]
  },
  {
   "cell_type": "code",
   "execution_count": 9,
   "metadata": {},
   "outputs": [
    {
     "name": "stdout",
     "output_type": "stream",
     "text": [
      "t h i s \n",
      "i s \n",
      "a \n",
      "g o o d \n",
      "d a y \n",
      "t o \n",
      "s t a r t \n",
      "s o m e t h i n g \n",
      "i s n t \n",
      "i t \n"
     ]
    }
   ],
   "source": [
    "#how to access each character of a string in a sentence\n",
    "l=\"this is a good day to start something isnt it\"\n",
    "li=l.split()\n",
    "for ele in li:\n",
    "    for chara in ele:\n",
    "        print(chara,end=\" \")\n",
    "    print()"
   ]
  },
  {
   "cell_type": "code",
   "execution_count": 70,
   "metadata": {},
   "outputs": [
    {
     "name": "stdout",
     "output_type": "stream",
     "text": [
      "dict_items([('o', 3)])\n"
     ]
    }
   ],
   "source": [
    "#program to print frequency of character in a string\n",
    "l=\"this is a good day to start something isnt it\"\n",
    "li=l.split()\n",
    "p=\"o\"\n",
    "q[p]=0\n",
    "for ele in li:\n",
    "    if p in ele:\n",
    "        q[p]=q[p]+1\n",
    "\n",
    "print(q.items())"
   ]
  },
  {
   "cell_type": "markdown",
   "metadata": {},
   "source": [
    "# SETS"
   ]
  },
  {
   "cell_type": "code",
   "execution_count": 91,
   "metadata": {},
   "outputs": [
    {
     "name": "stdout",
     "output_type": "stream",
     "text": [
      "{'banaba', 'apples', 'mango'}\n"
     ]
    }
   ],
   "source": [
    "#set is a collection of data but there is no particular order to it\n",
    "#the major advantage of set is that it removes all the duplicies\n",
    "s={} #s{values}\n",
    "p= set()\n",
    "a={'apples','banaba','mango'}  #see the order is not stored here so we cannnot access variables like in list\n",
    "print(a)"
   ]
  },
  {
   "cell_type": "code",
   "execution_count": 74,
   "metadata": {},
   "outputs": [
    {
     "name": "stdout",
     "output_type": "stream",
     "text": [
      "banaba\n",
      "apples\n",
      "mango\n"
     ]
    },
    {
     "ename": "TypeError",
     "evalue": "'set' object is not subscriptable",
     "output_type": "error",
     "traceback": [
      "\u001b[1;31m---------------------------------------------------------------------------\u001b[0m",
      "\u001b[1;31mTypeError\u001b[0m                                 Traceback (most recent call last)",
      "\u001b[1;32m<ipython-input-74-4b7a58408da7>\u001b[0m in \u001b[0;36m<module>\u001b[1;34m\u001b[0m\n\u001b[0;32m      2\u001b[0m \u001b[1;32mfor\u001b[0m \u001b[0mele\u001b[0m \u001b[1;32min\u001b[0m \u001b[0ma\u001b[0m\u001b[1;33m:\u001b[0m\u001b[1;33m\u001b[0m\u001b[1;33m\u001b[0m\u001b[0m\n\u001b[0;32m      3\u001b[0m     \u001b[0mprint\u001b[0m\u001b[1;33m(\u001b[0m\u001b[0mele\u001b[0m\u001b[1;33m)\u001b[0m\u001b[1;33m\u001b[0m\u001b[1;33m\u001b[0m\u001b[0m\n\u001b[1;32m----> 4\u001b[1;33m \u001b[0mprint\u001b[0m\u001b[1;33m(\u001b[0m\u001b[0ma\u001b[0m\u001b[1;33m[\u001b[0m\u001b[1;36m0\u001b[0m\u001b[1;33m]\u001b[0m\u001b[1;33m)\u001b[0m\u001b[1;33m\u001b[0m\u001b[1;33m\u001b[0m\u001b[0m\n\u001b[0m",
      "\u001b[1;31mTypeError\u001b[0m: 'set' object is not subscriptable"
     ]
    }
   ],
   "source": [
    "#how to access set\n",
    "a={'apples','banaba','mango'}\n",
    "for ele in a:\n",
    "    print(ele)\n",
    "print(a[0]) #it will show error here as in sets there is no particular order here"
   ]
  },
  {
   "cell_type": "code",
   "execution_count": 78,
   "metadata": {},
   "outputs": [
    {
     "name": "stdout",
     "output_type": "stream",
     "text": [
      "{1, 2, 3, 53}\n",
      "{1, 2, 3, 4, 51}\n",
      "{'a', 'q', 'p'}\n"
     ]
    }
   ],
   "source": [
    "#the major advantage of set is that it removes all the duplicies\n",
    "\n",
    "a={1,2,1,3,53,2}\n",
    "print(a)\n",
    "\n",
    "\n",
    "li=[1,2,3,4,1,3,4,1,4,4,51,1]   #here by converting the list to set we remove all the dublicaies\n",
    "c=set(li)\n",
    "print(c)\n",
    "\n",
    "\n",
    "li=['q','a','a','p']                #similarly here\n",
    "b=set(li)           \n",
    "print(b)"
   ]
  },
  {
   "cell_type": "code",
   "execution_count": 81,
   "metadata": {},
   "outputs": [
    {
     "name": "stdout",
     "output_type": "stream",
     "text": [
      "{1, 2, 3, 'temp', 53}\n",
      "{1, 2, 3, 12, 'temp', 53, 534, 254}\n"
     ]
    }
   ],
   "source": [
    "#how to add data\n",
    "a={1,2,3,53}\n",
    "a.add('temp')\n",
    "print(a)\n",
    "\n",
    "#merging two sets\n",
    "b={254,534,12}\n",
    "a.update(b)   #meaning taking all the values of b and putting in b \n",
    "               #if we have used b.update(a) then it will take all the values of a and put it in b\n",
    "print(a)"
   ]
  },
  {
   "cell_type": "code",
   "execution_count": 88,
   "metadata": {},
   "outputs": [
    {
     "name": "stdout",
     "output_type": "stream",
     "text": [
      "{1, 2, 3, 12, 53, 534, 254}\n",
      "{1, 2, 3, 12, 53, 534, 254}\n"
     ]
    }
   ],
   "source": [
    "#how to remove data from set\n",
    "a={1, 2, 3, 12, 'temp', 53, 534, 254}\n",
    "a.remove('temp')     #remove that element from the set  \n",
    "#if there is no such element it will show error . to handle suh error we can use discard\n",
    "print(a)\n",
    "\n",
    "a.discard(\"hello\") #as there was no such elements so it won't show any error\n",
    "print(a)"
   ]
  },
  {
   "cell_type": "code",
   "execution_count": 104,
   "metadata": {},
   "outputs": [
    {
     "name": "stdout",
     "output_type": "stream",
     "text": [
      "{3, 5}\n",
      "{3, 5}\n",
      "{3, 5, 6, 7}\n",
      "{1, 2, 3, 4, 5, 6, 7}\n",
      "{3, 5, 6, 7}\n",
      "{1, 2, 4}\n",
      "{6, 7}\n",
      "set()\n",
      "None\n",
      "{3, 5}\n"
     ]
    }
   ],
   "source": [
    "#predefined functions in sets\n",
    "#for intersection\n",
    "a={1,2,3,4,5}\n",
    "b={3,5,6,7}\n",
    "print(a.intersection(b))\n",
    "print(b.intersection(a))\n",
    "print(b.intersection(b))\n",
    "#union\n",
    "print(a.union(b))\n",
    "print(b.union(b))\n",
    "#difference\n",
    "print(a.difference(b))\n",
    "print(b.difference(a))\n",
    "print(b.difference(b))\n",
    "#intersection_update\n",
    "print(a.intersection_update(b)) #it finds the intersecton and change the values of a to it . but if we try to print this \n",
    "                                #function it will show none as it won't return anything\n",
    "\n",
    "print(a)                       \n"
   ]
  },
  {
   "cell_type": "code",
   "execution_count": 107,
   "metadata": {},
   "outputs": [
    {
     "name": "stdout",
     "output_type": "stream",
     "text": [
      "{1, 2, 3, 4, 5, 42, 23}\n"
     ]
    }
   ],
   "source": [
    "li=[1,2,3,4,5,1,23,2,42,4]\n",
    "s={}\n",
    "s=set(li)\n",
    "print(s)"
   ]
  },
  {
   "cell_type": "markdown",
   "metadata": {},
   "source": [
    "# Lambda function"
   ]
  },
  {
   "cell_type": "code",
   "execution_count": 119,
   "metadata": {},
   "outputs": [
    {
     "name": "stdout",
     "output_type": "stream",
     "text": [
      "10\n"
     ]
    }
   ],
   "source": [
    "#A lambda function is a small anonymous function.\n",
    "#A lambda function can take any number of arguments, but can only have one expression.\n",
    "#lambda arguments : expression\n",
    "p=lambda x:x*2\n",
    "print(p(5))"
   ]
  },
  {
   "cell_type": "code",
   "execution_count": 120,
   "metadata": {},
   "outputs": [
    {
     "name": "stdout",
     "output_type": "stream",
     "text": [
      "17\n"
     ]
    }
   ],
   "source": [
    "p=lambda a,b,c:a+b*c\n",
    "print(p(2,3,5))"
   ]
  },
  {
   "cell_type": "code",
   "execution_count": 122,
   "metadata": {},
   "outputs": [
    {
     "name": "stdout",
     "output_type": "stream",
     "text": [
      "22\n"
     ]
    }
   ],
   "source": [
    "def myfunc(n):\n",
    "      return lambda a : a * n    #in this we are returning the lamba function to  my doubler \n",
    "\n",
    "mydoubler = myfunc(2)       #here we are sending the 'n' value \n",
    "\n",
    "print(mydoubler(11))       #now we are sending the 'a' value"
   ]
  },
  {
   "cell_type": "code",
   "execution_count": 123,
   "metadata": {},
   "outputs": [
    {
     "name": "stdout",
     "output_type": "stream",
     "text": [
      "33\n"
     ]
    }
   ],
   "source": [
    "def triple(n):\n",
    "    return lambda a : a *n\n",
    "\n",
    "mytriple = triple(3)\n",
    "print(mytriple(11))"
   ]
  },
  {
   "cell_type": "code",
   "execution_count": 124,
   "metadata": {},
   "outputs": [
    {
     "name": "stdout",
     "output_type": "stream",
     "text": [
      "22\n",
      "33\n"
     ]
    }
   ],
   "source": [
    "def myfunc(n):\n",
    "      return lambda a : a * n\n",
    "\n",
    "mydoubler = myfunc(2)\n",
    "mytripler = myfunc(3)\n",
    "\n",
    "print(mydoubler(11))\n",
    "print(mytripler(11))"
   ]
  },
  {
   "cell_type": "markdown",
   "metadata": {},
   "source": [
    "#                                     The End"
   ]
  },
  {
   "cell_type": "code",
   "execution_count": null,
   "metadata": {},
   "outputs": [],
   "source": []
  },
  {
   "cell_type": "code",
   "execution_count": null,
   "metadata": {},
   "outputs": [],
   "source": []
  },
  {
   "cell_type": "code",
   "execution_count": null,
   "metadata": {},
   "outputs": [],
   "source": []
  }
 ],
 "metadata": {
  "kernelspec": {
   "display_name": "Python 3",
   "language": "python",
   "name": "python3"
  },
  "language_info": {
   "codemirror_mode": {
    "name": "ipython",
    "version": 3
   },
   "file_extension": ".py",
   "mimetype": "text/x-python",
   "name": "python",
   "nbconvert_exporter": "python",
   "pygments_lexer": "ipython3",
   "version": "3.8.3"
  }
 },
 "nbformat": 4,
 "nbformat_minor": 4
}
